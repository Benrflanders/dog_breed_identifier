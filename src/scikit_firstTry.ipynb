{
 "cells": [
  {
   "cell_type": "code",
   "execution_count": 1,
   "metadata": {
    "collapsed": false
   },
   "outputs": [],
   "source": [
    "#using SGD Classifier to solve Kaggle's Dog Breed Identification Problem\n",
    "\n",
    "import numpy as np #linear algebra\n",
    "import pandas as pd #data preprocessing\n",
    "import matplotlib.pyplot as plt #data visualization\n",
    "\n",
    "from utils.general_utils import populate_breeds, get_imgMatrix_from_id, get_breed_value_from_id\n",
    "\n",
    "%matplotlib inline\n",
    "\n",
    "#import csv files\n",
    "train = pd.read_csv(\"../data/included/labels.csv\")\n",
    "test = pd.read_csv(\"../data/included/test_id.csv\")\n",
    "\n",
    "#train.sample(5)"
   ]
  },
  {
   "cell_type": "code",
   "execution_count": 4,
   "metadata": {
    "collapsed": false
   },
   "outputs": [],
   "source": [
    "#img_matricies_np = train.as_matrix()\n",
    "#img_matricies_np\n",
    "#img_matricies_np = np.array(get_imgMatrix_from_id(train['id'].at()), dtype='float64')\n",
    "\n",
    "img_matricies_list = []\n",
    "\n",
    "#img_matricies_internal = get_imgMatrix_from_id(train['id'][1])\n",
    "\n",
    "#img_matricies_np = np.empty([1,len(train)], dtype=np.array([32,32,3], dtype=float))\n",
    "#img_matricies_np.vstack(img_matricies_internal)\n",
    "\n",
    "#img_matricies_internal.shape\n",
    "\n",
    "for index, row in train.iterrows():\n",
    "    #print(row['id'])\n",
    "    #print(get_imgMatrix_from_id(id)) \n",
    "    #if(get_imgMatrix_from_id(row['id']).shape != img_matricies_internal.shape):\n",
    "    #    print(\"ERROR: Not correct matrix shape at id \" + row['id']) #check for incorrectly shaped matrix\n",
    "        \n",
    "    img_matricies_list.append(get_imgMatrix_from_id(row['id']))\n",
    "    #append all matricies to a list\n",
    "    #each matrix is 32x32x3\n",
    "    #the list will then be converted to a numpy array"
   ]
  },
  {
   "cell_type": "code",
   "execution_count": 5,
   "metadata": {
    "collapsed": false
   },
   "outputs": [
    {
     "data": {
      "text/plain": [
       "(10222,)"
      ]
     },
     "execution_count": 5,
     "metadata": {},
     "output_type": "execute_result"
    }
   ],
   "source": [
    "img_matricies_np = np.asarray(img_matricies_list) #convert the list of matricies to a numpy array\n",
    "#img_matricies_np = np.expand_dims(img_matricies_np,axis = 0)\n",
    "\n",
    "#a = np.array(get_imgMatrix_from_id(train.loc[1]['id']))\n",
    "#a = np.expand_dims(a, axis=0)\n",
    "#b = get_imgMatrix_from_id(row['id'])\n",
    "#img_matricies_np = np.concatenate((img_matricies_np, a),axis=0)\n",
    "\n",
    "img_matricies_np.shape #number of samples x 32 x 32 x 3 matrix, each individual matrix is concatenated along axis 0"
   ]
  },
  {
   "cell_type": "code",
   "execution_count": 6,
   "metadata": {
    "collapsed": false,
    "scrolled": true
   },
   "outputs": [
    {
     "data": {
      "text/plain": [
       "10222"
      ]
     },
     "execution_count": 6,
     "metadata": {},
     "output_type": "execute_result"
    }
   ],
   "source": [
    "#train_matrixCol = np.asarray(img_matricies)\n",
    "#img_matricies_np = np.asarray(img_matricies)\n",
    "#train['matrix'] = img_matricies #adds the list of image matricies to the dataframe\n",
    "#train = train.drop(['id'],axis=1) #there is no longer a use for IDs\n",
    "#train.sample(5) #the train dataframe is complete :D\n",
    "len(img_matricies_np)"
   ]
  },
  {
   "cell_type": "code",
   "execution_count": 7,
   "metadata": {
    "collapsed": false
   },
   "outputs": [],
   "source": [
    "#prepare the breed list dataframe\n",
    "\n",
    "BREED_LIST = \"../data/preprocessed_data/breed_list.csv\"\n",
    "labels = populate_breeds(BREED_LIST) #get the list of all dog breeds\n",
    "labels_np = np.array(labels).reshape(120,1) #labels list reshaped to numpy array\n",
    "labels_df = pd.DataFrame(labels_np ,columns = list(\"B\")) #convert list of labels (dog breeds)\n",
    "#into a dataframe for eaiser use with classifier\n",
    "#column name is 'B' because I'm not sure how to make it more than one letter"
   ]
  },
  {
   "cell_type": "code",
   "execution_count": 8,
   "metadata": {
    "collapsed": false
   },
   "outputs": [
    {
     "name": "stdout",
     "output_type": "stream",
     "text": [
      "002211c81b498ef88e1b40b9abf84e1d\n"
     ]
    }
   ],
   "source": [
    "labels_np = labels_np.transpose()\n",
    "target_values_list = []\n",
    "print(train.loc[5]['id'])\n",
    "\n",
    "#get_breed_matrix_from_id(train.loc[5]['id'], labels_list=labels)\n",
    "\n",
    "#returns a list of 0.0s except for one index which corresponds to the location of that dog breed"
   ]
  },
  {
   "cell_type": "code",
   "execution_count": 9,
   "metadata": {
    "collapsed": false
   },
   "outputs": [],
   "source": [
    "#for each corresponding id there exists a float value 0.0 to n_samples representing the label value\n",
    "\n",
    "#reshape labels_np to create 120 columns x 1 row\n",
    "#this will be the layout for each row\n",
    "\n",
    "target_values_list = [] #each index holds a single value\n",
    "#will end up with a list of length n_samples\n",
    "\n",
    "for index, row in train.iterrows():\n",
    "    #print(row['id'])\n",
    "    #print(get_imgMatrix_from_id(id)) \n",
    "    #if(get_imgMatrix_from_id(row['id']).shape != img_matricies_internal.shape):\n",
    "    #    print(\"ERROR: Not correct matrix shape at id \" + row['id']) #check for incorrectly shaped matrix\n",
    "        \n",
    "    target_values_list.append(get_breed_value_from_id(row['id'], labels_list=labels))\n",
    "    #get a single value representing the breed\n",
    "    \n",
    "    #append all matricies to a list\n",
    "    #each matrix is 32x32x3\n",
    "    #the list will then be converted to a numpy array"
   ]
  },
  {
   "cell_type": "code",
   "execution_count": 10,
   "metadata": {
    "collapsed": false
   },
   "outputs": [
    {
     "data": {
      "text/plain": [
       "(10222,)"
      ]
     },
     "execution_count": 10,
     "metadata": {},
     "output_type": "execute_result"
    }
   ],
   "source": [
    "len(target_values_list)\n",
    "\n",
    "target_values_np = np.array(target_values_list) #number of samples x 1 value per index\n",
    "target_values_np.shape #10222 x 1"
   ]
  },
  {
   "cell_type": "code",
   "execution_count": 12,
   "metadata": {
    "collapsed": false,
    "scrolled": true
   },
   "outputs": [],
   "source": [
    "#print(img_matricies_np[1].shape) #32x32x3\n",
    "\n",
    "\n",
    "#print(img_matricies[0])\n",
    "#plt.imshow(train['matrix'].iloc[10])\n",
    "#plt.imshow(img_matricies_np[50])\n",
    "#plt.show()\n",
    "\n",
    "\n",
    "#train['matrix'].iloc[1].shape"
   ]
  },
  {
   "cell_type": "code",
   "execution_count": 13,
   "metadata": {
    "collapsed": true
   },
   "outputs": [],
   "source": [
    "from sklearn.linear_model import SGDClassifier\n",
    "#will likely have to change up classifier type\n",
    "#https://en.wikipedia.org/wiki/Probabilistic_classification\n",
    "#"
   ]
  },
  {
   "cell_type": "code",
   "execution_count": 14,
   "metadata": {
    "collapsed": false
   },
   "outputs": [
    {
     "ename": "ValueError",
     "evalue": "need more than 1 value to unpack",
     "output_type": "error",
     "traceback": [
      "\u001b[0;31m---------------------------------------------------------------------------\u001b[0m",
      "\u001b[0;31mValueError\u001b[0m                                Traceback (most recent call last)",
      "\u001b[0;32m<ipython-input-14-70949861c7c9>\u001b[0m in \u001b[0;36m<module>\u001b[0;34m()\u001b[0m\n\u001b[1;32m      1\u001b[0m \u001b[0;31m#n_samples, nx, ny = img_matricies_np.shape\u001b[0m\u001b[0;34m\u001b[0m\u001b[0;34m\u001b[0m\u001b[0m\n\u001b[0;32m----> 2\u001b[0;31m \u001b[0mn_samples\u001b[0m\u001b[0;34m,\u001b[0m \u001b[0mnx\u001b[0m\u001b[0;34m,\u001b[0m \u001b[0mny\u001b[0m\u001b[0;34m,\u001b[0m \u001b[0mnz\u001b[0m \u001b[0;34m=\u001b[0m \u001b[0mimg_matricies_np\u001b[0m\u001b[0;34m.\u001b[0m\u001b[0mshape\u001b[0m\u001b[0;34m\u001b[0m\u001b[0m\n\u001b[0m\u001b[1;32m      3\u001b[0m \u001b[0mimg_matricies_np_flat\u001b[0m \u001b[0;34m=\u001b[0m \u001b[0mimg_matricies_np\u001b[0m\u001b[0;34m.\u001b[0m\u001b[0mreshape\u001b[0m\u001b[0;34m(\u001b[0m\u001b[0;34m(\u001b[0m\u001b[0mn_samples\u001b[0m\u001b[0;34m,\u001b[0m \u001b[0mnx\u001b[0m\u001b[0;34m*\u001b[0m\u001b[0mny\u001b[0m\u001b[0;34m*\u001b[0m\u001b[0mnz\u001b[0m\u001b[0;34m)\u001b[0m\u001b[0;34m)\u001b[0m\u001b[0;34m\u001b[0m\u001b[0m\n",
      "\u001b[0;31mValueError\u001b[0m: need more than 1 value to unpack"
     ]
    }
   ],
   "source": [
    "#n_samples, nx, ny = img_matricies_np.shape\n",
    "n_samples, nx, ny, nz = img_matricies_np.shape\n",
    "img_matricies_np_flat = img_matricies_np.reshape((n_samples, nx*ny*nz))\n"
   ]
  },
  {
   "cell_type": "code",
   "execution_count": null,
   "metadata": {
    "collapsed": false
   },
   "outputs": [],
   "source": [
    "\n",
    "#http://scikit-learn.org/stable/auto_examples/classification/plot_digits_classification.html\n",
    "\n",
    "\n",
    "\n",
    "#X = [[0.,20444.],[1.,1.]]#[n_sample, n_features]\n",
    "#need to flatten the image to make it usable\n",
    "\n",
    "#data = train.matrix.reshape((n_samples, -1))\n",
    "\n",
    "#X = train['matrix'].reshape(-1,1)\n",
    "\n",
    "#y = [0, 120] #[#n_samples] - the target values/class labels\n",
    "#y = labels_df['B']\n",
    "X = img_matricies_np_flat #looks good\n",
    "y = target_values_np #1 x number of features\n",
    "\n",
    "\n",
    "clf = SGDClassifier(loss=\"log\",penalty=\"l2\", max_iter=1000, tol=None) #maybe max_iter = n_samples?\n",
    "clf.fit(X[:n_samples], y[:n_samples])"
   ]
  },
  {
   "cell_type": "code",
   "execution_count": null,
   "metadata": {
    "collapsed": false
   },
   "outputs": [],
   "source": [
    "#test the model\n",
    "\n",
    "test_img_matricies_list = []\n",
    "print(test['id'][2])\n",
    "test_img_matricies_internal = (get_imgMatrix_from_id(test['id'][2], image_dir=\"../data/preprocessed_data/Test\"))\n",
    "#get the first image matrix from the set of test images\n",
    "#for error checking purposes\n",
    "\n",
    "#print(test_img_matricies_internal)"
   ]
  },
  {
   "cell_type": "code",
   "execution_count": null,
   "metadata": {
    "collapsed": false
   },
   "outputs": [],
   "source": [
    "for index, row in test.iterrows():\n",
    "\n",
    "    if(get_imgMatrix_from_id(row['id'], image_dir=\"../data/preprocessed_data/Test\").shape != test_img_matricies_internal.shape):\n",
    "        print(\"ERROR: Not correct matrix shape at id \" + row['id']) #check for incorrectly shaped matrix\n",
    "        \n",
    "    test_img_matricies_list.append(get_imgMatrix_from_id(row['id'], image_dir=\"../data/preprocessed_data/Test\"))\n",
    "    #append all matricies to a list\n",
    "    #each matrix is 32x32x3\n",
    "    #the list will then be converted to a numpy array\n",
    "\n",
    "\n",
    "test_img_matricies_np = np.asarray(test_img_matricies_list) #convert the list of matricies to a numpy array\n",
    "\n",
    "n_samples, nx, ny, nz = test_img_matricies_np.shape\n",
    "test_img_matricies_np_flat = test_img_matricies_np.reshape((n_samples, nx*ny*nz))"
   ]
  },
  {
   "cell_type": "code",
   "execution_count": null,
   "metadata": {
    "collapsed": false
   },
   "outputs": [],
   "source": [
    "test_individual_id = (test['id'][10])\n",
    "\n",
    "print(test_individual_id)\n",
    "\n",
    "#print(test_individual_id)\n",
    "#print(get_imgMatrix_from_id(test_individual_id, image_dir=\"../data/preprocessed_data/Test\"))\n",
    "test_individual_img_matrix_np = np.asarray(get_imgMatrix_from_id(test_individual_id, image_dir=\"../data/preprocessed_data/Test\"))\n",
    "print(test_individual_img_matrix_np.shape)\n",
    "\n",
    "test_not_processes_img_matrix_np = np.asarray(get_imgMatrix_from_id(test_individual_id, image_dir=\"../data/included/Test\", filetype=\".jpg\"))\n",
    "print(test_not_processes_img_matrix_np.shape)\n"
   ]
  },
  {
   "cell_type": "code",
   "execution_count": null,
   "metadata": {
    "collapsed": false
   },
   "outputs": [],
   "source": [
    "plt.imshow(test_individual_img_matrix_np)\n",
    "plt.show()\n",
    "\n",
    "plt.imshow(test_not_processes_img_matrix_np)\n",
    "plt.show()\n",
    "\n",
    "#print(labels[1])\n",
    "\n",
    "#pred = clf.predict(test_img_matricies_np_flat[10].reshape(1,-1))\n",
    "#print(pred)"
   ]
  },
  {
   "cell_type": "code",
   "execution_count": null,
   "metadata": {
    "collapsed": false
   },
   "outputs": [],
   "source": [
    "test_img_matricies_np_flat[10].reshape(1, -1)"
   ]
  },
  {
   "cell_type": "code",
   "execution_count": null,
   "metadata": {
    "collapsed": false
   },
   "outputs": [],
   "source": [
    "clf.predict_proba(test_img_matricies_np_flat[750].reshape(1, -1))"
   ]
  },
  {
   "cell_type": "code",
   "execution_count": null,
   "metadata": {
    "collapsed": false
   },
   "outputs": [],
   "source": [
    "labels[9]"
   ]
  },
  {
   "cell_type": "code",
   "execution_count": null,
   "metadata": {
    "collapsed": false
   },
   "outputs": [],
   "source": [
    "import pickle\n",
    "\n",
    "filename = \"clf_model_6_7_18.sav\"\n",
    "pickle.dump(clf, open(filename, 'wb'))\n"
   ]
  },
  {
   "cell_type": "code",
   "execution_count": null,
   "metadata": {
    "collapsed": true
   },
   "outputs": [],
   "source": []
  }
 ],
 "metadata": {
  "kernelspec": {
   "display_name": "Python (gameAI)",
   "language": "python",
   "name": "gameai"
  },
  "language_info": {
   "codemirror_mode": {
    "name": "ipython",
    "version": 3
   },
   "file_extension": ".py",
   "mimetype": "text/x-python",
   "name": "python",
   "nbconvert_exporter": "python",
   "pygments_lexer": "ipython3",
   "version": "3.4.5"
  }
 },
 "nbformat": 4,
 "nbformat_minor": 2
}
