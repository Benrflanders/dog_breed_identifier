{
 "cells": [
  {
   "cell_type": "code",
   "execution_count": 5,
   "metadata": {
    "collapsed": false
   },
   "outputs": [],
   "source": [
    "import os\n",
    "\n",
    "import matplotlib.pyplot as plt\n",
    "import numpy as np\n",
    "import tensorflow as tf\n",
    "from PIL import Image\n",
    "\n",
    "from utils.general_utils import get_imgMatrix_from_id, get_random_id, get_id_from_filename"
   ]
  },
  {
   "cell_type": "code",
   "execution_count": 6,
   "metadata": {
    "collapsed": false
   },
   "outputs": [],
   "source": [
    "#create a .csv file of ids and image_matricies and save it to the data/preprocessed folder"
   ]
  },
  {
   "cell_type": "code",
   "execution_count": 8,
   "metadata": {
    "collapsed": false
   },
   "outputs": [
    {
     "data": {
      "text/plain": [
       "'83c3a329b5fe2a7a8360086a735402f0.jpg ... saved'"
      ]
     },
     "execution_count": 8,
     "metadata": {},
     "output_type": "execute_result"
    }
   ],
   "source": [
    "#convert all images to grayscale vectors\n",
    "def normalize_image(file_name, original_dir=\"../data/included/Test/\",output_dir=\"/data/preprocessed_data/Test/\"):\n",
    "    file = original_dir + \"\" + file_name #store the file name and location  \n",
    "    #image = tf.image.decode_jpeg(file) #Decode a JPEG-encoded image to a uint8 tensor\n",
    "    image = Image.open(file)\n",
    "    #image = plt.Image(file)\n",
    "    \n",
    "    #scale the image to 32 x 32 x 3 image and convert to grayscale\n",
    "    image = image.resize((32,32), Image.ANTIALIAS).convert('LA')\n",
    "    \n",
    "    image_id = get_id_from_filename(file_name)\n",
    "    \n",
    "    #save the image to the output_dir with the same id\n",
    "    image.save((\"/home/ben/Documents/github/kaggle_dog_breed/data/preprocessed_data/Test/\"+ \"\" + image_id + \".png\"),format='PNG')\n",
    "        \n",
    "    return (file_name + \" ... saved\")\n",
    "\n",
    "\n",
    "normalize_image(get_random_id(dir=\"../data/included/Test/\")+ \".jpg\", )\n",
    "\n",
    "#type(plt.imread(\"../data/included/Train/bd6a14ec09f86f3fef46f9433db8c445.jpg\"))\n",
    "#plt.imread(\"../data/included/Train/\" + image)"
   ]
  },
  {
   "cell_type": "code",
   "execution_count": 9,
   "metadata": {
    "collapsed": false
   },
   "outputs": [],
   "source": [
    "#pre-process all of the Train files\n",
    "def pre_process(dir=\"../data/included/Test/\"):\n",
    "    data_files = os.listdir(\"../data/included/Test/\") #get a list of all filenames from Train dir\n",
    "\n",
    "    for file in data_files:\n",
    "        normalize_image(file)\n",
    "        \n",
    "    return(True)"
   ]
  },
  {
   "cell_type": "code",
   "execution_count": 11,
   "metadata": {
    "collapsed": false
   },
   "outputs": [
    {
     "data": {
      "text/plain": [
       "True"
      ]
     },
     "execution_count": 11,
     "metadata": {},
     "output_type": "execute_result"
    }
   ],
   "source": [
    "pre_process()"
   ]
  },
  {
   "cell_type": "code",
   "execution_count": null,
   "metadata": {
    "collapsed": true
   },
   "outputs": [],
   "source": []
  }
 ],
 "metadata": {
  "kernelspec": {
   "display_name": "Python (gameAI)",
   "language": "python",
   "name": "gameai"
  },
  "language_info": {
   "codemirror_mode": {
    "name": "ipython",
    "version": 3
   },
   "file_extension": ".py",
   "mimetype": "text/x-python",
   "name": "python",
   "nbconvert_exporter": "python",
   "pygments_lexer": "ipython3",
   "version": "3.4.5"
  }
 },
 "nbformat": 4,
 "nbformat_minor": 2
}
