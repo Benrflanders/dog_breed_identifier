{
 "cells": [
  {
   "cell_type": "code",
   "execution_count": 26,
   "metadata": {
    "collapsed": false
   },
   "outputs": [],
   "source": [
    "import os\n",
    "\n",
    "import matplotlib.pyplot as plt\n",
    "import matplotlib.mlab as mlb\n",
    "import numpy as np\n",
    "import tensorflow as tf\n",
    "from PIL import Image, ImageOps\n",
    "\n",
    "from sklearn import preprocessing\n",
    "from skimage import io, filters, morphology, util\n",
    "\n",
    "\n",
    "from utils.general_utils import get_imgMatrix_from_id, get_random_id, get_id_from_filename"
   ]
  },
  {
   "cell_type": "code",
   "execution_count": 2,
   "metadata": {
    "collapsed": false
   },
   "outputs": [],
   "source": [
    "#parameters to change\n",
    "\n",
    "\n",
    "#create a .csv file of ids and image_matricies and save it to the data/preprocessed folder\n",
    "\n",
    "\n",
    "#current directory to process\n",
    "dir=\"../data/included/Test/\""
   ]
  },
  {
   "cell_type": "code",
   "execution_count": 8,
   "metadata": {
    "collapsed": false
   },
   "outputs": [
    {
     "name": "stdout",
     "output_type": "stream",
     "text": [
      "d03d4df9ecba147112407209140e0f78.jpg\n",
      "328\n",
      "a4bb3277153f52493ccda42857eeefc7.jpg\n",
      "500\n",
      "c4649d3948446cf3cd90da2ee922b3c1.jpg\n",
      "945\n",
      "15b5949f52a4838f9fe3d69cfff94fd5.jpg\n",
      "1280\n",
      "d47ae5d9f7c17055130be743362f4bfd.jpg\n",
      "2740\n",
      "bf6cf509b2ee89fcc7f1b627ee1ed7e7.jpg\n",
      "3264\n",
      "The avg x dimension is: 443.33153981608297\n",
      "The avg y dimension is: 386.74721189591077\n",
      "The Maximum width is: 3264\n",
      "The Maximum height is: 2562\n"
     ]
    }
   ],
   "source": [
    "def getImageDimensions(file_name, original_dir=\"../data/included/Train/\"):\n",
    "    file = original_dir + \"\" + file_name #store the file name and location  \n",
    "    image = Image.open(file)\n",
    "    width, height = image.size\n",
    "    return width, height\n",
    "\n",
    "def dimensionAnalysis(dir=\"../data/included/Test/\"):\n",
    "    data_files = os.listdir(dir) #get a list of all filenames from Train dir\n",
    "    \n",
    "    n = 0\n",
    "    x_total = 0\n",
    "    y_total = 0\n",
    "    x_max = 0\n",
    "    y_max = 0\n",
    "    \n",
    "    for file in data_files:\n",
    "        x = 0\n",
    "        y = 0\n",
    "        x,y = getImageDimensions(file)\n",
    "        n+=1\n",
    "        x_total+= x\n",
    "        y_total+= y        \n",
    "        \n",
    "        if(x>x_max):\n",
    "            x_max = x\n",
    "            print(file)\n",
    "            print(x)\n",
    "        if(y>y_max):\n",
    "            y_max = y\n",
    "        \n",
    "    x_avg = x_total/n\n",
    "    y_avg = y_total/n\n",
    "    \n",
    "    print(\"The avg x dimension is: \" + str(x_avg))\n",
    "    print(\"The avg y dimension is: \" + str(y_avg))\n",
    "    print(\"The Maximum width is: \" + str(x_max))\n",
    "    print(\"The Maximum height is: \" + str(y_max))\n",
    "    \n",
    "dimensionAnalysis(dir=\"../data/included/Train\")\n",
    "#solution:\n",
    "#  if width is under 500 add padding to make the image 500 x 500\n",
    "#  if height is under 500 add padding to make the image 500 x 500\n",
    "#  if either dimension > 500 scale down to get one dimension == to 500\n",
    "#     then add padding to get the other dimension == to 500"
   ]
  },
  {
   "cell_type": "code",
   "execution_count": 30,
   "metadata": {
    "collapsed": false,
    "scrolled": true
   },
   "outputs": [
    {
     "name": "stdout",
     "output_type": "stream",
     "text": [
      "test1... a7fb600cfa14ef2e1667d34e087befd7.jpg\n",
      "test1... 31b6ee728915433aad07164838e20a55.jpg\n",
      "test1... 042e83e82315bada78f2681d030b0d28.jpg\n",
      "test1... bf6cf509b2ee89fcc7f1b627ee1ed7e7.jpg\n",
      "test1... 1e2c2d6d7c941a1b0554767f8b6d331c.jpg\n"
     ]
    },
    {
     "ename": "KeyboardInterrupt",
     "evalue": "",
     "output_type": "error",
     "traceback": [
      "\u001b[0;31m---------------------------------------------------------------------------\u001b[0m",
      "\u001b[0;31mAttributeError\u001b[0m                            Traceback (most recent call last)",
      "\u001b[0;32m/home/ben/miniconda3/envs/gameAI/lib/python3.4/site-packages/PIL/ImageFile.py\u001b[0m in \u001b[0;36m_save\u001b[0;34m(im, fp, tile, bufsize)\u001b[0m\n\u001b[1;32m    463\u001b[0m     \u001b[0;32mtry\u001b[0m\u001b[0;34m:\u001b[0m\u001b[0;34m\u001b[0m\u001b[0m\n\u001b[0;32m--> 464\u001b[0;31m         \u001b[0mfh\u001b[0m \u001b[0;34m=\u001b[0m \u001b[0mfp\u001b[0m\u001b[0;34m.\u001b[0m\u001b[0mfileno\u001b[0m\u001b[0;34m(\u001b[0m\u001b[0;34m)\u001b[0m\u001b[0;34m\u001b[0m\u001b[0m\n\u001b[0m\u001b[1;32m    465\u001b[0m         \u001b[0mfp\u001b[0m\u001b[0;34m.\u001b[0m\u001b[0mflush\u001b[0m\u001b[0;34m(\u001b[0m\u001b[0;34m)\u001b[0m\u001b[0;34m\u001b[0m\u001b[0m\n",
      "\u001b[0;31mAttributeError\u001b[0m: '_idat' object has no attribute 'fileno'",
      "\nDuring handling of the above exception, another exception occurred:\n",
      "\u001b[0;31mKeyboardInterrupt\u001b[0m                         Traceback (most recent call last)",
      "\u001b[0;32m<ipython-input-30-2bb0e2ab9fd4>\u001b[0m in \u001b[0;36m<module>\u001b[0;34m()\u001b[0m\n\u001b[1;32m     45\u001b[0m \u001b[0;34m\u001b[0m\u001b[0m\n\u001b[1;32m     46\u001b[0m \u001b[0;32mwhile\u001b[0m\u001b[0;34m(\u001b[0m\u001b[0;32mnot\u001b[0m \u001b[0mdone\u001b[0m\u001b[0;34m)\u001b[0m\u001b[0;34m:\u001b[0m\u001b[0;34m\u001b[0m\u001b[0m\n\u001b[0;32m---> 47\u001b[0;31m     \u001b[0mnormalize_image\u001b[0m\u001b[0;34m(\u001b[0m\u001b[0mget_random_id\u001b[0m\u001b[0;34m(\u001b[0m\u001b[0mdir\u001b[0m\u001b[0;34m=\u001b[0m\u001b[0;34m\"../data/included/Train/\"\u001b[0m\u001b[0;34m)\u001b[0m\u001b[0;34m+\u001b[0m \u001b[0;34m\".jpg\"\u001b[0m\u001b[0;34m)\u001b[0m\u001b[0;34m\u001b[0m\u001b[0m\n\u001b[0m\u001b[1;32m     48\u001b[0m \u001b[0;34m\u001b[0m\u001b[0m\n\u001b[1;32m     49\u001b[0m \u001b[0;34m\u001b[0m\u001b[0m\n",
      "\u001b[0;32m<ipython-input-30-2bb0e2ab9fd4>\u001b[0m in \u001b[0;36mnormalize_image\u001b[0;34m(file_name, original_dir, output_dir)\u001b[0m\n\u001b[1;32m     40\u001b[0m \u001b[0;34m\u001b[0m\u001b[0m\n\u001b[1;32m     41\u001b[0m     \u001b[0;31m#save the image to the output_dir with the same id\u001b[0m\u001b[0;34m\u001b[0m\u001b[0;34m\u001b[0m\u001b[0m\n\u001b[0;32m---> 42\u001b[0;31m     \u001b[0mimage\u001b[0m\u001b[0;34m.\u001b[0m\u001b[0msave\u001b[0m\u001b[0;34m(\u001b[0m\u001b[0;34m(\u001b[0m\u001b[0;34m\"/home/ben/Documents/github/kaggle_dog_breed/data/preprocessed_data/Train/\"\u001b[0m\u001b[0;34m+\u001b[0m \u001b[0;34m\"\"\u001b[0m \u001b[0;34m+\u001b[0m \u001b[0mimage_id\u001b[0m \u001b[0;34m+\u001b[0m \u001b[0;34m\".png\"\u001b[0m\u001b[0;34m)\u001b[0m\u001b[0;34m,\u001b[0m\u001b[0mformat\u001b[0m\u001b[0;34m=\u001b[0m\u001b[0;34m'PNG'\u001b[0m\u001b[0;34m)\u001b[0m\u001b[0;34m\u001b[0m\u001b[0m\n\u001b[0m\u001b[1;32m     43\u001b[0m \u001b[0;34m\u001b[0m\u001b[0m\n\u001b[1;32m     44\u001b[0m     \u001b[0;32mreturn\u001b[0m \u001b[0;34m(\u001b[0m\u001b[0mfile_name\u001b[0m \u001b[0;34m+\u001b[0m \u001b[0;34m\" ... saved\"\u001b[0m\u001b[0;34m)\u001b[0m\u001b[0;34m\u001b[0m\u001b[0m\n",
      "\u001b[0;32m/home/ben/miniconda3/envs/gameAI/lib/python3.4/site-packages/PIL/Image.py\u001b[0m in \u001b[0;36msave\u001b[0;34m(self, fp, format, **params)\u001b[0m\n\u001b[1;32m   1891\u001b[0m \u001b[0;34m\u001b[0m\u001b[0m\n\u001b[1;32m   1892\u001b[0m         \u001b[0;32mtry\u001b[0m\u001b[0;34m:\u001b[0m\u001b[0;34m\u001b[0m\u001b[0m\n\u001b[0;32m-> 1893\u001b[0;31m             \u001b[0msave_handler\u001b[0m\u001b[0;34m(\u001b[0m\u001b[0mself\u001b[0m\u001b[0;34m,\u001b[0m \u001b[0mfp\u001b[0m\u001b[0;34m,\u001b[0m \u001b[0mfilename\u001b[0m\u001b[0;34m)\u001b[0m\u001b[0;34m\u001b[0m\u001b[0m\n\u001b[0m\u001b[1;32m   1894\u001b[0m         \u001b[0;32mfinally\u001b[0m\u001b[0;34m:\u001b[0m\u001b[0;34m\u001b[0m\u001b[0m\n\u001b[1;32m   1895\u001b[0m             \u001b[0;31m# do what we can to clean up\u001b[0m\u001b[0;34m\u001b[0m\u001b[0;34m\u001b[0m\u001b[0m\n",
      "\u001b[0;32m/home/ben/miniconda3/envs/gameAI/lib/python3.4/site-packages/PIL/PngImagePlugin.py\u001b[0m in \u001b[0;36m_save\u001b[0;34m(im, fp, filename, chunk, check)\u001b[0m\n\u001b[1;32m    794\u001b[0m \u001b[0;34m\u001b[0m\u001b[0m\n\u001b[1;32m    795\u001b[0m     ImageFile._save(im, _idat(fp, chunk),\n\u001b[0;32m--> 796\u001b[0;31m                     [(\"zip\", (0, 0)+im.size, 0, rawmode)])\n\u001b[0m\u001b[1;32m    797\u001b[0m \u001b[0;34m\u001b[0m\u001b[0m\n\u001b[1;32m    798\u001b[0m     \u001b[0mchunk\u001b[0m\u001b[0;34m(\u001b[0m\u001b[0mfp\u001b[0m\u001b[0;34m,\u001b[0m \u001b[0;34mb\"IEND\"\u001b[0m\u001b[0;34m,\u001b[0m \u001b[0;34mb\"\"\u001b[0m\u001b[0;34m)\u001b[0m\u001b[0;34m\u001b[0m\u001b[0m\n",
      "\u001b[0;32m/home/ben/miniconda3/envs/gameAI/lib/python3.4/site-packages/PIL/ImageFile.py\u001b[0m in \u001b[0;36m_save\u001b[0;34m(im, fp, tile, bufsize)\u001b[0m\n\u001b[1;32m    476\u001b[0m             \u001b[0;32melse\u001b[0m\u001b[0;34m:\u001b[0m\u001b[0;34m\u001b[0m\u001b[0m\n\u001b[1;32m    477\u001b[0m                 \u001b[0;32mwhile\u001b[0m \u001b[0;32mTrue\u001b[0m\u001b[0;34m:\u001b[0m\u001b[0;34m\u001b[0m\u001b[0m\n\u001b[0;32m--> 478\u001b[0;31m                     \u001b[0ml\u001b[0m\u001b[0;34m,\u001b[0m \u001b[0ms\u001b[0m\u001b[0;34m,\u001b[0m \u001b[0md\u001b[0m \u001b[0;34m=\u001b[0m \u001b[0me\u001b[0m\u001b[0;34m.\u001b[0m\u001b[0mencode\u001b[0m\u001b[0;34m(\u001b[0m\u001b[0mbufsize\u001b[0m\u001b[0;34m)\u001b[0m\u001b[0;34m\u001b[0m\u001b[0m\n\u001b[0m\u001b[1;32m    479\u001b[0m                     \u001b[0mfp\u001b[0m\u001b[0;34m.\u001b[0m\u001b[0mwrite\u001b[0m\u001b[0;34m(\u001b[0m\u001b[0md\u001b[0m\u001b[0;34m)\u001b[0m\u001b[0;34m\u001b[0m\u001b[0m\n\u001b[1;32m    480\u001b[0m                     \u001b[0;32mif\u001b[0m \u001b[0ms\u001b[0m\u001b[0;34m:\u001b[0m\u001b[0;34m\u001b[0m\u001b[0m\n",
      "\u001b[0;31mKeyboardInterrupt\u001b[0m: "
     ]
    }
   ],
   "source": [
    "done = False\n",
    "\n",
    "#convert all images to grayscale vectors-- no longer used as NN will be using 500 x 500 x 3 images as input\n",
    "def normalize_image(file_name, original_dir=\"../data/included/Train/\",output_dir=\"/data/preprocessed_data/Train/\"):\n",
    "    file = original_dir + \"\" + file_name #store the file name and location  \n",
    "    image = Image.open(file)\n",
    "    \n",
    "    #scale the image to 500 x 500 x 3\n",
    "    \n",
    "    \n",
    "    #  if width is under 500 add padding to make the image 500 x 500\n",
    "    #  if height is under 500 add padding to make the image 500 x 500\n",
    "    #  if either dimension > 500 scale down to get one dimension == to 500\n",
    "    #     then add padding to get the other dimension == to 500\n",
    "    \n",
    "    width, height = image.size\n",
    "    \n",
    "    if(width > 500 or height > 500): #if width is greater than 500 or the height is greater than 500\n",
    "        if(width > height): #determine which side length is greater\n",
    "            image_ratio = 500/width #determine ratio of old image to new image\n",
    "        else:\n",
    "            image_ratio = 500/height\n",
    "             \n",
    "        width = int(width * image_ratio) #calculate new width\n",
    "        height = int(height * image_ratio) #calculate new height\n",
    "        image = image.resize((500, height), resample=1) #scale image to \n",
    "    \n",
    "        #add padding to the height to change the image dimensions to 500 x 500 x 3\n",
    "        width, height = image.size #refresh the width and height to make sure everything is still accurate\n",
    "        delta_h = 500 - height #calculate the amount of height padding\n",
    "        delta_w = 500 - width #calculate the amount of width padding -- should be 0\n",
    "        padding = (delta_w//2, delta_h//2, delta_w-(delta_w//2), delta_h-(delta_h//2))\n",
    "        image = ImageOps.expand(image, padding)\n",
    "    \n",
    "        print(\"test1... \" + file_name) \n",
    "    \n",
    "    \n",
    "    \n",
    "    image_id = get_id_from_filename(file_name)\n",
    "    \n",
    "    #save the image to the output_dir with the same id\n",
    "    image.save((\"/home/ben/Documents/github/kaggle_dog_breed/data/preprocessed_data/Train/\"+ \"\" + image_id + \".png\"),format='PNG')    \n",
    "        \n",
    "    return (file_name + \" ... saved\")\n",
    "\n",
    "while(not done):\n",
    "    normalize_image(get_random_id(dir=\"../data/included/Train/\")+ \".jpg\")\n",
    "\n",
    "\n",
    "#type(plt.imread(\"../data/included/Train/bd6a14ec09f86f3fef46f9433db8c445.jpg\"))\n",
    "#plt.imread(\"../data/included/Train/\" + image)\n"
   ]
  },
  {
   "cell_type": "code",
   "execution_count": null,
   "metadata": {
    "collapsed": false
   },
   "outputs": [],
   "source": [
    "#pre-process all of the Train files\n",
    "def pre_process(dir=\"../data/included/Train/\"):\n",
    "    data_files = os.listdir(dir) #get a list of all filenames from Train dir\n",
    "    \n",
    "    for file in data_files:\n",
    "        normalize_image(file)\n",
    "    \n",
    "    \n",
    "    return(True)"
   ]
  },
  {
   "cell_type": "code",
   "execution_count": null,
   "metadata": {
    "collapsed": false
   },
   "outputs": [],
   "source": [
    "#load random image from training data\n",
    "img_loc = \"../data/included/Train/\" + get_random_id(dir=\"../data/included/Train/\") + \".jpg\"\n",
    "img = io.imread(img_loc, as_grey=True) #import image in greyscale\n",
    "\n",
    "#display the image\n",
    "io.imshow(img)\n",
    "io.show()\n",
    "\n",
    "img.shape"
   ]
  },
  {
   "cell_type": "code",
   "execution_count": null,
   "metadata": {
    "collapsed": false
   },
   "outputs": [],
   "source": [
    "#scale planning, step 1\n",
    "#calculate number of square images and whether most images are longer in width or height\n",
    "\n",
    "data_files = os.listdir(dir) #get a list of all filenames from Train dir\n",
    "\n",
    "square_cnt = 0 \n",
    "long_horz_cnt = 0 \n",
    "long_vert_cnt = 0\n",
    "\n",
    "list_of_widths = []\n",
    "list_of_heights = []\n",
    "\n",
    "#check if image is square\n",
    "x, y = img.shape\n",
    "for file in data_files:\n",
    "    img_loc = \"../data/included/Train/\" + get_random_id(dir=\"../data/included/Train/\") + \".jpg\"\n",
    "    img = io.imread(img_loc, as_grey=True) #import image in greyscale  \n",
    "    \n",
    "    x, y = img.shape\n",
    "    list_of_widths.append(x)\n",
    "    list_of_heights.append(y)\n",
    "    \n",
    "    if(x == y):\n",
    "        square_cnt += 1\n",
    "    elif(x < y):\n",
    "        long_horz_cnt += 1\n",
    "    elif(y < x):\n",
    "        long_vert_cnt += 1"
   ]
  },
  {
   "cell_type": "code",
   "execution_count": null,
   "metadata": {
    "collapsed": false
   },
   "outputs": [],
   "source": [
    "plt.pie([square_cnt, long_horz_cnt, long_vert_cnt], labels=[\"square\", \"long horizontal\", \"long vertical\"])\n",
    "\n",
    "plt.show() \n",
    "\n",
    "list_of_widths = sorted(list_of_widths)\n",
    "list_of_heights = sorted(list_of_heights)\n",
    "\n",
    "#determine distribution of heights and widths of the images\n",
    "plt.plot(list_of_widths, mlb.normpdf(list_of_widths, np.mean(list_of_widths), np.std(list_of_widths)), '-o')\n",
    "plt.hist(list_of_widths, normed=True)\n",
    "plt.show()\n",
    "\n",
    "plt.plot(list_of_heights, mlb.normpdf(list_of_heights, np.mean(list_of_heights), np.std(list_of_heights)), '-o')\n",
    "plt.hist(list_of_heights, normed=True)\n",
    "plt.show()\n",
    "\n",
    "print(\"Minimum image width: \", np.min(list_of_widths))\n",
    "print(\"Minimum image height: \", np.min(list_of_heights))"
   ]
  },
  {
   "cell_type": "code",
   "execution_count": null,
   "metadata": {
    "collapsed": true
   },
   "outputs": [],
   "source": [
    "#crop the image to standerdize size\n"
   ]
  },
  {
   "cell_type": "code",
   "execution_count": null,
   "metadata": {
    "collapsed": false
   },
   "outputs": [],
   "source": [
    "\n",
    "img_ = preprocessing.scale(img, axis=0)\n",
    "\n",
    "io.imshow(img_)\n",
    "io.show()"
   ]
  },
  {
   "cell_type": "code",
   "execution_count": null,
   "metadata": {
    "collapsed": true
   },
   "outputs": [],
   "source": []
  }
 ],
 "metadata": {
  "kernelspec": {
   "display_name": "Python (gameAI)",
   "language": "python",
   "name": "gameai"
  },
  "language_info": {
   "codemirror_mode": {
    "name": "ipython",
    "version": 3
   },
   "file_extension": ".py",
   "mimetype": "text/x-python",
   "name": "python",
   "nbconvert_exporter": "python",
   "pygments_lexer": "ipython3",
   "version": "3.4.5"
  }
 },
 "nbformat": 4,
 "nbformat_minor": 2
}
