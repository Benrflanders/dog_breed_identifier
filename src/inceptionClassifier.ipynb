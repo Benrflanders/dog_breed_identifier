{
 "cells": [
  {
   "cell_type": "code",
   "execution_count": 3,
   "metadata": {
    "collapsed": false
   },
   "outputs": [],
   "source": [
    "import numpy as np #linear algebra\n",
    "import pandas as pd #data preprocessing\n",
    "import matplotlib.pyplot as plt #data visualization\n",
    "import h5py\n",
    "import PIL\n",
    "\n",
    "from utils.general_utils import populate_breeds, get_imgMatrix_from_id, get_breed_value_from_id, get_filename_from_id\n",
    "#other built utilities\n",
    "\n",
    "#using inception_v3 to classify dog breeds\n",
    "import tensorflow as tf #import tensroflow"
   ]
  },
  {
   "cell_type": "code",
   "execution_count": 4,
   "metadata": {
    "collapsed": false
   },
   "outputs": [],
   "source": [
    "inception_v3 = tf.keras.applications.InceptionV3() #create an instance of the inception_v3 model"
   ]
  },
  {
   "cell_type": "code",
   "execution_count": 5,
   "metadata": {
    "collapsed": false
   },
   "outputs": [],
   "source": [
    "%matplotlib inline\n",
    "\n",
    "#import csv files\n",
    "train = pd.read_csv(\"../data/included/labels.csv\")\n",
    "test = pd.read_csv(\"../data/included/test_id.csv\")\n"
   ]
  },
  {
   "cell_type": "code",
   "execution_count": 6,
   "metadata": {
    "collapsed": false
   },
   "outputs": [
    {
     "data": {
      "text/plain": [
       "(375, 500, 3)"
      ]
     },
     "execution_count": 6,
     "metadata": {},
     "output_type": "execute_result"
    }
   ],
   "source": [
    "#preprocess images\n",
    "img = PIL.Image.open(get_filename_from_id(train.id[1],'../data/included/Train', filetype='.jpg'))\n",
    "tf.keras.preprocessing.image.img_to_array(img).shape"
   ]
  },
  {
   "cell_type": "code",
   "execution_count": 7,
   "metadata": {
    "collapsed": false
   },
   "outputs": [
    {
     "data": {
      "text/plain": [
       "(375, 500, 3)"
      ]
     },
     "execution_count": 7,
     "metadata": {},
     "output_type": "execute_result"
    }
   ],
   "source": [
    "#preprocess images - convert from cv2 image to numpy array\n",
    "import cv2\n",
    "\n",
    "fn = get_filename_from_id(train.id[1],'../data/included/Train', filetype='.jpg')\n",
    "image = cv2.imread(fn)\n",
    "tf.keras.preprocessing.image.img_to_array(img).shape"
   ]
  },
  {
   "cell_type": "code",
   "execution_count": 41,
   "metadata": {
    "collapsed": false
   },
   "outputs": [
    {
     "name": "stdout",
     "output_type": "stream",
     "text": [
      "../data/included/Train/000bec180eb18c7604dcecc8fe0dba07.jpg\n",
      "../data/included/Train/001513dfcb2ffafc82cccf4d8bbaba97.jpg\n",
      "../data/included/Train/001cdf01b096e06d78e9e5112d419397.jpg\n",
      "../data/included/Train/00214f311d5d2247d5dfe4fe24b2303d.jpg\n",
      "../data/included/Train/0021f9ceb3235effd7fcde7f7538ed62.jpg\n",
      "../data/included/Train/002211c81b498ef88e1b40b9abf84e1d.jpg\n",
      "../data/included/Train/00290d3e1fdd27226ba27a8ce248ce85.jpg\n",
      "../data/included/Train/002a283a315af96eaea0e28e7163b21b.jpg\n",
      "../data/included/Train/003df8b8a8b05244b1d920bb6cf451f9.jpg\n",
      "../data/included/Train/0042188c895a2f14ef64a918ed9c7b64.jpg\n",
      "../data/included/Train/004396df1acd0f1247b740ca2b14616e.jpg\n"
     ]
    }
   ],
   "source": [
    "#preprocess images\n",
    "img_matricies_list = []\n",
    "\n",
    "for index, row in train.iterrows():\n",
    "    fn = get_filename_from_id(row['id'],'../data/included/Train', filetype='.jpg')\n",
    "    print(fn)\n",
    "    img = cv2.imread(fn)\n",
    "    img_matricies_list.append(tf.keras.preprocessing.image.img_to_array(img))\n",
    "    if(index>=10):\n",
    "        break"
   ]
  },
  {
   "cell_type": "code",
   "execution_count": 50,
   "metadata": {
    "collapsed": false
   },
   "outputs": [
    {
     "data": {
      "text/plain": [
       "(500, 375, 3)"
      ]
     },
     "execution_count": 50,
     "metadata": {},
     "output_type": "execute_result"
    }
   ],
   "source": [
    "img_matricies_list[10].shape"
   ]
  },
  {
   "cell_type": "code",
   "execution_count": 54,
   "metadata": {
    "collapsed": false
   },
   "outputs": [
    {
     "data": {
      "text/plain": [
       "(375, 500, 3)"
      ]
     },
     "execution_count": 54,
     "metadata": {},
     "output_type": "execute_result"
    }
   ],
   "source": [
    "img_matricies_np = np.asarray(img_matricies_list) #convert the list of matricies to a numpy array\n",
    "len(img_matricies_np)\n",
    "img_matricies_np[1].shape"
   ]
  },
  {
   "cell_type": "code",
   "execution_count": 55,
   "metadata": {
    "collapsed": false
   },
   "outputs": [
    {
     "name": "stdout",
     "output_type": "stream",
     "text": [
      "002211c81b498ef88e1b40b9abf84e1d\n"
     ]
    }
   ],
   "source": [
    "#prepare the breed list dataframe AKA output information\n",
    "\n",
    "BREED_LIST = \"../data/preprocessed_data/breed_list.csv\"\n",
    "labels = populate_breeds(BREED_LIST) #get the list of all dog breeds\n",
    "labels_np = np.array(labels).reshape(120,1) #labels list reshaped to numpy array\n",
    "labels_df = pd.DataFrame(labels_np ,columns = list(\"B\")) #convert list of labels (dog breeds)\n",
    "#into a dataframe for eaiser use with classifier\n",
    "#column name is 'B' because I'm not sure how to make it more than one letter\n",
    "\n",
    "labels_np = labels_np.transpose()\n",
    "target_values_list = []\n",
    "print(train.loc[5]['id'])\n",
    "\n",
    "#get_breed_matrix_from_id(train.loc[5]['id'], labels_list=labels)\n",
    "\n",
    "\n",
    "#returns a list of 0.0s except for one index which corresponds to the location of that dog breed"
   ]
  },
  {
   "cell_type": "code",
   "execution_count": 59,
   "metadata": {
    "collapsed": false
   },
   "outputs": [],
   "source": [
    "train_input_fn = tf.estimator.inputs.numpy_input_fn(\n",
    "    x={\"x\": img_matricies_np},\n",
    "    y=labels_np,\n",
    "    num_epochs=None,\n",
    "    shuffle=True)\n",
    "\n",
    "\n",
    "#create an input layer\n",
    "#input = tf.placeholder(tf.float32, [None, image_size*image_size])\n",
    "#labels = tf.placeholder(tf.float32, [None, labels_size])\n",
    "#tf.Tensor = train_input_fn\n",
    "inception_v3.get_input_at = train_input_fn\n",
    "\n"
   ]
  },
  {
   "cell_type": "code",
   "execution_count": 60,
   "metadata": {
    "collapsed": false
   },
   "outputs": [
    {
     "data": {
      "text/plain": [
       "<bound method Model.train_on_batch of <tensorflow.python.keras._impl.keras.engine.training.Model object at 0x7fe8ec588fd0>>"
      ]
     },
     "execution_count": 60,
     "metadata": {},
     "output_type": "execute_result"
    }
   ],
   "source": []
  },
  {
   "cell_type": "code",
   "execution_count": 65,
   "metadata": {
    "collapsed": false
   },
   "outputs": [
    {
     "data": {
      "text/plain": [
       "<bound method Model.build of <tensorflow.python.keras._impl.keras.engine.training.Model object at 0x7fe8ec588fd0>>"
      ]
     },
     "execution_count": 65,
     "metadata": {},
     "output_type": "execute_result"
    }
   ],
   "source": [
    "inception_v3.build\n"
   ]
  },
  {
   "cell_type": "code",
   "execution_count": null,
   "metadata": {
    "collapsed": true
   },
   "outputs": [],
   "source": []
  }
 ],
 "metadata": {
  "kernelspec": {
   "display_name": "Python (gameAI)",
   "language": "python",
   "name": "gameai"
  },
  "language_info": {
   "codemirror_mode": {
    "name": "ipython",
    "version": 3
   },
   "file_extension": ".py",
   "mimetype": "text/x-python",
   "name": "python",
   "nbconvert_exporter": "python",
   "pygments_lexer": "ipython3",
   "version": "3.4.5"
  }
 },
 "nbformat": 4,
 "nbformat_minor": 2
}
