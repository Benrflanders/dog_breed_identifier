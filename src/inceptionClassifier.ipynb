{
 "cells": [
  {
   "cell_type": "code",
   "execution_count": 5,
   "metadata": {
    "collapsed": false
   },
   "outputs": [],
   "source": [
    "import numpy as np #linear algebra\n",
    "import pandas as pd #data preprocessing\n",
    "import matplotlib.pyplot as plt #data visualization\n",
    "import h5py\n",
    "import PIL\n",
    "\n",
    "import utils.general_utils as util\n",
    "from utils.general_utils import populate_breeds, get_imgMatrix_from_id, get_breed_value_from_id, get_filename_from_id\n",
    "#other built utilities\n",
    "\n",
    "from data_loader import dataFrameBuilder\n",
    "\n",
    "#using inception_v3 to classify dog breeds\n",
    "import tensorflow as tf #import tensroflow\n",
    "\n",
    "import random"
   ]
  },
  {
   "cell_type": "code",
   "execution_count": 6,
   "metadata": {
    "collapsed": false
   },
   "outputs": [],
   "source": [
    "#PARAMETERS\n",
    "image_size = 500 #all images are size image_size x image_size x 3\n",
    "batch_size = 10\n",
    "num_classes = 120"
   ]
  },
  {
   "cell_type": "code",
   "execution_count": 7,
   "metadata": {
    "collapsed": false
   },
   "outputs": [],
   "source": [
    "%matplotlib inline\n",
    "\n",
    "#prepare csv files\n",
    "train = pd.read_csv(\"../data/included/labels.csv\")\n",
    "test = pd.read_csv(\"../data/included/test_id.csv\")\n",
    "BREED_LIST = \"../data/preprocessed_data/breed_list.csv\""
   ]
  },
  {
   "cell_type": "code",
   "execution_count": 8,
   "metadata": {
    "collapsed": false
   },
   "outputs": [],
   "source": [
    "#prepare the breed list dataframe\n",
    "labels = populate_breeds(BREED_LIST) #get the list of all dog breeds\n",
    "labels_np = np.array(labels).reshape(120,1) #labels list reshaped to numpy array"
   ]
  },
  {
   "cell_type": "code",
   "execution_count": 9,
   "metadata": {
    "collapsed": false
   },
   "outputs": [],
   "source": [
    "#x = tf.placeholder(tf.float32, shape=[None, 500,500, 3], name='input_data')\n",
    "\n",
    "x = tf.keras.layers.Input(shape=(500,500,3), batch_size=batch_size,name='input_data',dtype='float32')\n",
    "\n",
    "y = tf.placeholder(tf.float32, shape=[None, 120,1], name='correct_labels')\n",
    "#x=tf.placeholder(tf.float32, shape=[500,500,3],name='input_data')\n",
    "\n",
    "y_pred = tf.placeholder(tf.float32, shape=[None,120,1], name='predicted_labels')\n"
   ]
  },
  {
   "cell_type": "code",
   "execution_count": 16,
   "metadata": {
    "collapsed": false
   },
   "outputs": [],
   "source": [
    "def train_input_fn(index=0, data_amnt = 1):\n",
    "    input_img_data = dataFrameBuilder(data_amount=data_amnt,\n",
    "                                      start_index=index)\n",
    "    #df.shuffle().repeat().batch(batch_size)\n",
    "    #print(df.sample(1))\n",
    "    #input_img_data = df.as_matrix(columns=['Image Data'])\n",
    "    #input_img_data.reshape([500,500,3])\n",
    "    input_img_data = np.asarray(input_img_data)\n",
    "    \n",
    "    return input_img_data\n",
    "\n",
    "def train_output_fn(index=0,data_amnt = 1):\n",
    "    output_breed_data = dataFrameBuilder(data_amount=data_amnt,\n",
    "                                         start_index=index,\n",
    "                                         ret_input=False,\n",
    "                                         ret_output=True)\n",
    "    #return df.as_matrix(columns=['Breed'])\n",
    "    output_breed_data = np.asarray(output_breed_data)\n",
    "    return output_breed_data\n",
    "\n",
    "'''\n",
    "batch_size\n",
    "    the number of samples returned\n",
    "\n",
    "features\n",
    "    either 'train' to use training data\n",
    "    or 'test' to return testing data\n",
    "'''\n",
    "def generator(batch_size, features = train):\n",
    "    # Create empty arrays to contain batch of features and labels#\n",
    "    batch_features = np.zeros((batch_size, 500, 500, 3))\n",
    "    batch_labels = np.zeros((batch_size,120))\n",
    "    while True:\n",
    "        for i in range(batch_size):     \n",
    "            # choose random index in features\n",
    "            index= random.choice([len(features),1])\n",
    "            batch_features[i] = train_input_fn(index=index, data_amnt=1)\n",
    "            batch_labels[i] = train_output_fn(index=index, data_amnt=1)\n",
    "        yield batch_features, batch_labels\n"
   ]
  },
  {
   "cell_type": "code",
   "execution_count": null,
   "metadata": {
    "collapsed": false
   },
   "outputs": [],
   "source": [
    "inception_v3 = tf.keras.applications.InceptionV3(include_top=False,\n",
    "                                                input_tensor=x,\n",
    "                                                classes=120)\n",
    "\n",
    "#set imagedata to channels_last for best performance\n"
   ]
  },
  {
   "cell_type": "code",
   "execution_count": null,
   "metadata": {
    "collapsed": false
   },
   "outputs": [],
   "source": [
    "# add a global spatial average pooling layer\n",
    "output_layer = inception_v3.output\n",
    "output_layer = tf.keras.layers.GlobalAveragePooling2D()(output_layer)\n",
    "# let's add a fully-connected layer\n",
    "output_layer = tf.keras.layers.Dense(1024, activation='relu')(output_layer)\n",
    "# and a logistic layer -- let's say we have 200 classes\n",
    "predictions = tf.keras.layers.Dense(120, activation='softmax')(output_layer)"
   ]
  },
  {
   "cell_type": "code",
   "execution_count": null,
   "metadata": {
    "collapsed": false
   },
   "outputs": [],
   "source": [
    "# this is the model we will train\n",
    "model = tf.keras.Model(inputs=inception_v3.input, outputs=predictions)"
   ]
  },
  {
   "cell_type": "code",
   "execution_count": null,
   "metadata": {
    "collapsed": false
   },
   "outputs": [],
   "source": [
    "for i, layer in enumerate(model.layers):\n",
    "   print(i, layer.name)"
   ]
  },
  {
   "cell_type": "code",
   "execution_count": 6,
   "metadata": {
    "collapsed": true
   },
   "outputs": [],
   "source": []
  },
  {
   "cell_type": "code",
   "execution_count": 19,
   "metadata": {
    "collapsed": false
   },
   "outputs": [
    {
     "name": "stdout",
     "output_type": "stream",
     "text": [
      "Epoch 1/1\n",
      "10/10 [==============================]10/10 [==============================] - 59s 6s/step - loss: 5.1447\n",
      "\n"
     ]
    },
    {
     "ename": "ValueError",
     "evalue": "Found a sample_weight array with shape (120,) for an input with shape (10, 120). sample_weight cannot be broadcast.",
     "output_type": "error",
     "traceback": [
      "\u001b[0;31m--------------------------------------------------------------------------\u001b[0m",
      "\u001b[0;31mValueError\u001b[0m                               Traceback (most recent call last)",
      "\u001b[0;32m<ipython-input-19-1407e6f0f0c5>\u001b[0m in \u001b[0;36m<module>\u001b[0;34m()\u001b[0m\n\u001b[1;32m     40\u001b[0m \u001b[0;34m\u001b[0m\u001b[0m\n\u001b[1;32m     41\u001b[0m     \u001b[0msample_weight\u001b[0m\u001b[0;34m=\u001b[0m\u001b[0mnp\u001b[0m\u001b[0;34m.\u001b[0m\u001b[0mtranspose\u001b[0m\u001b[0;34m(\u001b[0m\u001b[0mnp\u001b[0m\u001b[0;34m.\u001b[0m\u001b[0mones\u001b[0m\u001b[0;34m(\u001b[0m\u001b[0;36m120\u001b[0m\u001b[0;34m,\u001b[0m \u001b[0mdtype\u001b[0m\u001b[0;34m=\u001b[0m\u001b[0;34m'float32'\u001b[0m\u001b[0;34m)\u001b[0m\u001b[0;34m)\u001b[0m\u001b[0;34m\u001b[0m\u001b[0m\n\u001b[0;32m---> 42\u001b[0;31m     \u001b[0mmodel\u001b[0m\u001b[0;34m.\u001b[0m\u001b[0mevaluate\u001b[0m\u001b[0;34m(\u001b[0m\u001b[0mx\u001b[0m\u001b[0;34m=\u001b[0m\u001b[0mimg_data\u001b[0m\u001b[0;34m,\u001b[0m\u001b[0my\u001b[0m\u001b[0;34m=\u001b[0m\u001b[0mbreed_data\u001b[0m\u001b[0;34m,\u001b[0m\u001b[0mbatch_size\u001b[0m\u001b[0;34m=\u001b[0m\u001b[0mbatch_size\u001b[0m\u001b[0;34m,\u001b[0m \u001b[0msample_weight\u001b[0m\u001b[0;34m=\u001b[0m\u001b[0msample_weight\u001b[0m\u001b[0;34m)\u001b[0m\u001b[0;34m\u001b[0m\u001b[0m\n\u001b[0m\u001b[1;32m     43\u001b[0m \u001b[0;34m\u001b[0m\u001b[0m\n",
      "\u001b[0;32m/home/ben/miniconda3/envs/gameAI/lib/python3.4/site-packages/tensorflow/python/keras/_impl/keras/engine/training.py\u001b[0m in \u001b[0;36mevaluate\u001b[0;34m(self, x, y, batch_size, verbose, sample_weight, steps)\u001b[0m\n\u001b[1;32m   1861\u001b[0m         \u001b[0msample_weight\u001b[0m\u001b[0;34m=\u001b[0m\u001b[0msample_weight\u001b[0m\u001b[0;34m,\u001b[0m\u001b[0;34m\u001b[0m\u001b[0m\n\u001b[1;32m   1862\u001b[0m         \u001b[0mcheck_batch_axis\u001b[0m\u001b[0;34m=\u001b[0m\u001b[0;32mFalse\u001b[0m\u001b[0;34m,\u001b[0m\u001b[0;34m\u001b[0m\u001b[0m\n\u001b[0;32m-> 1863\u001b[0;31m         batch_size=batch_size)\n\u001b[0m\u001b[1;32m   1864\u001b[0m     \u001b[0;31m# Prepare inputs, delegate logic to `_test_loop`.\u001b[0m\u001b[0;34m\u001b[0m\u001b[0;34m\u001b[0m\u001b[0m\n\u001b[1;32m   1865\u001b[0m     \u001b[0;32mif\u001b[0m \u001b[0mself\u001b[0m\u001b[0;34m.\u001b[0m\u001b[0muses_learning_phase\u001b[0m \u001b[0;32mand\u001b[0m \u001b[0;32mnot\u001b[0m \u001b[0misinstance\u001b[0m\u001b[0;34m(\u001b[0m\u001b[0mK\u001b[0m\u001b[0;34m.\u001b[0m\u001b[0mlearning_phase\u001b[0m\u001b[0;34m(\u001b[0m\u001b[0;34m)\u001b[0m\u001b[0;34m,\u001b[0m \u001b[0mint\u001b[0m\u001b[0;34m)\u001b[0m\u001b[0;34m:\u001b[0m\u001b[0;34m\u001b[0m\u001b[0m\n",
      "\u001b[0;32m/home/ben/miniconda3/envs/gameAI/lib/python3.4/site-packages/tensorflow/python/keras/_impl/keras/engine/training.py\u001b[0m in \u001b[0;36m_standardize_user_data\u001b[0;34m(self, x, y, sample_weight, class_weight, check_batch_axis, batch_size)\u001b[0m\n\u001b[1;32m   1520\u001b[0m         \u001b[0m_standardize_weights\u001b[0m\u001b[0;34m(\u001b[0m\u001b[0mref\u001b[0m\u001b[0;34m,\u001b[0m \u001b[0msw\u001b[0m\u001b[0;34m,\u001b[0m \u001b[0mcw\u001b[0m\u001b[0;34m,\u001b[0m \u001b[0mmode\u001b[0m\u001b[0;34m)\u001b[0m\u001b[0;34m\u001b[0m\u001b[0m\n\u001b[1;32m   1521\u001b[0m         for (ref, sw, cw, mode) in zip(y, sample_weights, class_weights,\n\u001b[0;32m-> 1522\u001b[0;31m                                        self._feed_sample_weight_modes)\n\u001b[0m\u001b[1;32m   1523\u001b[0m     ]\n\u001b[1;32m   1524\u001b[0m     \u001b[0m_check_array_lengths\u001b[0m\u001b[0;34m(\u001b[0m\u001b[0mx\u001b[0m\u001b[0;34m,\u001b[0m \u001b[0my\u001b[0m\u001b[0;34m,\u001b[0m \u001b[0msample_weights\u001b[0m\u001b[0;34m)\u001b[0m\u001b[0;34m\u001b[0m\u001b[0m\n",
      "\u001b[0;32m/home/ben/miniconda3/envs/gameAI/lib/python3.4/site-packages/tensorflow/python/keras/_impl/keras/engine/training.py\u001b[0m in \u001b[0;36m<listcomp>\u001b[0;34m(.0)\u001b[0m\n\u001b[1;32m   1519\u001b[0m     sample_weights = [\n\u001b[1;32m   1520\u001b[0m         \u001b[0m_standardize_weights\u001b[0m\u001b[0;34m(\u001b[0m\u001b[0mref\u001b[0m\u001b[0;34m,\u001b[0m \u001b[0msw\u001b[0m\u001b[0;34m,\u001b[0m \u001b[0mcw\u001b[0m\u001b[0;34m,\u001b[0m \u001b[0mmode\u001b[0m\u001b[0;34m)\u001b[0m\u001b[0;34m\u001b[0m\u001b[0m\n\u001b[0;32m-> 1521\u001b[0;31m         for (ref, sw, cw, mode) in zip(y, sample_weights, class_weights,\n\u001b[0m\u001b[1;32m   1522\u001b[0m                                        self._feed_sample_weight_modes)\n\u001b[1;32m   1523\u001b[0m     ]\n",
      "\u001b[0;32m/home/ben/miniconda3/envs/gameAI/lib/python3.4/site-packages/tensorflow/python/keras/_impl/keras/engine/training.py\u001b[0m in \u001b[0;36m_standardize_weights\u001b[0;34m(y, sample_weight, class_weight, sample_weight_mode)\u001b[0m\n\u001b[1;32m    531\u001b[0m       raise ValueError(\n\u001b[1;32m    532\u001b[0m           \u001b[0;34m'Found a sample_weight array with shape '\u001b[0m \u001b[0;34m+\u001b[0m \u001b[0mstr\u001b[0m\u001b[0;34m(\u001b[0m\u001b[0msample_weight\u001b[0m\u001b[0;34m.\u001b[0m\u001b[0mshape\u001b[0m\u001b[0;34m)\u001b[0m \u001b[0;34m+\u001b[0m\u001b[0;34m\u001b[0m\u001b[0m\n\u001b[0;32m--> 533\u001b[0;31m           \u001b[0;34m' for an input with shape '\u001b[0m \u001b[0;34m+\u001b[0m \u001b[0mstr\u001b[0m\u001b[0;34m(\u001b[0m\u001b[0my\u001b[0m\u001b[0;34m.\u001b[0m\u001b[0mshape\u001b[0m\u001b[0;34m)\u001b[0m \u001b[0;34m+\u001b[0m \u001b[0;34m'. '\u001b[0m\u001b[0;34m\u001b[0m\u001b[0m\n\u001b[0m\u001b[1;32m    534\u001b[0m           'sample_weight cannot be broadcast.')\n\u001b[1;32m    535\u001b[0m     \u001b[0;32mreturn\u001b[0m \u001b[0msample_weight\u001b[0m\u001b[0;34m\u001b[0m\u001b[0m\n",
      "\u001b[0;31mValueError\u001b[0m: Found a sample_weight array with shape (120,) for an input with shape (10, 120). sample_weight cannot be broadcast."
     ]
    }
   ],
   "source": [
    "tf.reset_default_graph()\n",
    "\n",
    "with tf.Session() as ss:\n",
    "    x = tf.keras.layers.Input(shape=(500,500,3), batch_size=batch_size,name='input_data',dtype='float32')\n",
    "\n",
    "    y = tf.placeholder(tf.float32, shape=[None, 120,1], name='correct_labels')\n",
    "    #x=tf.placeholder(tf.float32, shape=[500,500,3],name='input_data')\n",
    "\n",
    "    y_pred = tf.placeholder(tf.float32, shape=[None,120,1], name='predicted_labels')\n",
    "\n",
    "    \n",
    "    inception_v3 = tf.keras.applications.InceptionV3(include_top=False,\n",
    "                                                     weights='imagenet',\n",
    "                                                    input_tensor=x,\n",
    "                                                    classes=120)\n",
    "\n",
    "    #steps for adding a new output layer\n",
    "    output_layer = inception_v3.output\n",
    "    output_layer = tf.keras.layers.GlobalAveragePooling2D()(output_layer) #replace the current global avg pool 2d\n",
    "    output_layer = tf.keras.layers.Dense(1024, activation='relu')(output_layer) \n",
    "    predictions = tf.keras.layers.Dense(120, activation='softmax')(output_layer) #120 classes in the new model\n",
    "    \n",
    "    model = tf.keras.Model(inputs=inception_v3.input, outputs=predictions)\n",
    "                                   \n",
    "    model.compile(loss=tf.keras.losses.categorical_crossentropy,\n",
    "                        optimizer='sgd')\n",
    "    \n",
    "    #img_data = train_input_fn(data_amnt=batch_size)\n",
    "    #breed_data = train_output_fn(data_amnt=batch_size)\n",
    "    \n",
    "    #model.fit(x=img_data, y=breed_data, batch_size=batch_size)\n",
    "    \n",
    "    #inception_v3.fit_generator(generator)\n",
    "    #model.fit_generator(generator(features, labels, batch_size), samples_per_epoch=50, nb_epoch=10)\n",
    "    #print(img_data[0])\n",
    "    model.fit_generator(generator(batch_size), samples_per_epoch=50, nb_epoch=10)\n",
    "    \n",
    "    \n",
    "    index = 11\n",
    "    \n",
    "    img_data = train_input_fn(index=index, data_amnt=batch_size)\n",
    "    breed_data = train_output_fn(index=index, data_amnt=batch_size)\n",
    "    \n",
    "    #sample_weight=np.transpose(np.ones(120, dtype='float32'))\n",
    "    #model.evaluate(x=img_data,y=breed_data,batch_size=batch_size, sample_weight=sample_weight) \n",
    "    model.evaluate(x=img_data, y=breed_data,batch_size=batch_size)\n",
    "    "
   ]
  },
  {
   "cell_type": "code",
   "execution_count": null,
   "metadata": {
    "collapsed": true
   },
   "outputs": [],
   "source": []
  }
 ],
 "metadata": {
  "kernelspec": {
   "display_name": "Python (gameAI)",
   "language": "python",
   "name": "gameai"
  },
  "language_info": {
   "codemirror_mode": {
    "name": "ipython",
    "version": 3
   },
   "file_extension": ".py",
   "mimetype": "text/x-python",
   "name": "python",
   "nbconvert_exporter": "python",
   "pygments_lexer": "ipython3",
   "version": "3.4.5"
  }
 },
 "nbformat": 4,
 "nbformat_minor": 2
}
