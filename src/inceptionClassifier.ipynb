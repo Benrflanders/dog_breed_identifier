{
 "cells": [
  {
   "cell_type": "code",
   "execution_count": 1,
   "metadata": {
    "collapsed": false
   },
   "outputs": [],
   "source": [
    "import numpy as np #linear algebra\n",
    "import pandas as pd #data preprocessing\n",
    "import matplotlib.pyplot as plt #data visualization\n",
    "import h5py\n",
    "import PIL\n",
    "\n",
    "import utils.general_utils as util\n",
    "from utils.general_utils import populate_breeds, get_imgMatrix_from_id, get_breed_value_from_id, get_filename_from_id\n",
    "#other built utilities\n",
    "\n",
    "from data_loader import dataFrameBuilder\n",
    "\n",
    "#using inception_v3 to classify dog breeds\n",
    "import tensorflow as tf #import tensroflow\n",
    "\n"
   ]
  },
  {
   "cell_type": "code",
   "execution_count": 2,
   "metadata": {
    "collapsed": false
   },
   "outputs": [],
   "source": [
    "#PARAMETERS\n",
    "image_size = 500\n",
    "batch_size = 100"
   ]
  },
  {
   "cell_type": "code",
   "execution_count": 3,
   "metadata": {
    "collapsed": false
   },
   "outputs": [],
   "source": [
    "%matplotlib inline\n",
    "\n",
    "#prepare csv files\n",
    "train = pd.read_csv(\"../data/included/labels.csv\")\n",
    "test = pd.read_csv(\"../data/included/test_id.csv\")\n",
    "BREED_LIST = \"../data/preprocessed_data/breed_list.csv\""
   ]
  },
  {
   "cell_type": "code",
   "execution_count": 4,
   "metadata": {
    "collapsed": false
   },
   "outputs": [],
   "source": [
    "#prepare the breed list dataframe\n",
    "labels = populate_breeds(BREED_LIST) #get the list of all dog breeds\n",
    "labels_np = np.array(labels).reshape(120,1) #labels list reshaped to numpy array"
   ]
  },
  {
   "cell_type": "code",
   "execution_count": 28,
   "metadata": {
    "collapsed": false
   },
   "outputs": [],
   "source": [
    "#x = tf.placeholder(tf.float32, shape=[None, 500,500, 3], name='input_data')\n",
    "x = tf.keras.layers.Input(shape=[500,500,3], batch_size=batch_size,name='input_data',dtype='float32')\n",
    "y = tf.placeholder(tf.float32, shape=[None, 120,1], name='correct_labels')\n",
    "#x=tf.placeholder(tf.float32, shape=[500,500,3],name='input_data')\n",
    "\n",
    "y_pred = tf.placeholder(tf.float32, shape=[None,120,1], name='predicted_labels')"
   ]
  },
  {
   "cell_type": "code",
   "execution_count": 20,
   "metadata": {
    "collapsed": false
   },
   "outputs": [],
   "source": [
    "def train_input_fn(data_amnt = None):\n",
    "    input_img_data = dataFrameBuilder(data_amnt)\n",
    "    #df.shuffle().repeat().batch(batch_size)\n",
    "    #print(df.sample(1))\n",
    "    #input_img_data = df.as_matrix(columns=['Image Data'])\n",
    "    #input_img_data.reshape([500,500,3])\n",
    "    input_img_data = np.asarray(input_img_data)\n",
    "    \n",
    "    return input_img_data\n",
    "\n",
    "def train_output_fn(data_amnt = None):\n",
    "    output_breed_data = dataFrameBuilder(data_amnt,\n",
    "                                  ret_input=False,\n",
    "                                  ret_output=True)\n",
    "    #return df.as_matrix(columns=['Breed'])\n",
    "    output_breed_data = np.asarray(output_breed_data)\n",
    "    return output_breed_data"
   ]
  },
  {
   "cell_type": "code",
   "execution_count": 7,
   "metadata": {
    "collapsed": false
   },
   "outputs": [],
   "source": [
    "#create an input layer\n",
    "#input = tf.placeholder(tf.float32, [None, image_size*image_size])\n",
    "#labels = tf.placeholder(tf.float32, [None, len(labels_np)])\n",
    "\n",
    "#train_input_layer = tf.keras.layers.Input(tensor=x, name='input_layer')\n",
    "#train_output_layer = tf.keras.layers."
   ]
  },
  {
   "cell_type": "code",
   "execution_count": 8,
   "metadata": {
    "collapsed": false
   },
   "outputs": [],
   "source": [
    "#loss function\n",
    "#loss = tf.keras\n",
    "#optimizer_fn = tf.keras.optimizers.Adam()\n",
    "\n",
    "#loss_fn = tf.keras.losses.categorical_hinge(y,\n",
    "#                                           y_pred)\n",
    "\n",
    "#loss_fn = tf.losses.hinge_loss(labels=y, logits=y_pred)\n",
    "\n",
    "#loss_fn = tf.keras.losses.hinge(y_true=y, y_pred=y_pred)"
   ]
  },
  {
   "cell_type": "code",
   "execution_count": 30,
   "metadata": {
    "collapsed": false
   },
   "outputs": [],
   "source": [
    "inception_v3 = tf.keras.applications.InceptionV3(include_top=False,\n",
    "                                                weights='imagenet',\n",
    "                                                input_tensor=x,\n",
    "                                                input_shape=[image_size,image_size,3],\n",
    "                                                pooling='max',\n",
    "                                                classes=120)\n",
    "output_layer = tf.keras.layers.GlobalMaxPooling2D()\n",
    "inception_v3.output_layer()"
   ]
  },
  {
   "cell_type": "code",
   "execution_count": 31,
   "metadata": {
    "collapsed": false
   },
   "outputs": [
    {
     "name": "stdout",
     "output_type": "stream",
     "text": [
      "(1, 120)\n"
     ]
    },
    {
     "ename": "ValueError",
     "evalue": "Error when checking target: expected global_max_pooling2d_6 to have shape (2048,) but got array with shape (120,)",
     "output_type": "error",
     "traceback": [
      "\u001b[0;31m---------------------------------------------------------------------------\u001b[0m",
      "\u001b[0;31mValueError\u001b[0m                                Traceback (most recent call last)",
      "\u001b[0;32m<ipython-input-31-8529c8114d01>\u001b[0m in \u001b[0;36m<module>\u001b[0;34m()\u001b[0m\n\u001b[1;32m     10\u001b[0m     \u001b[0minception_v3\u001b[0m\u001b[0;34m.\u001b[0m\u001b[0mbuild\u001b[0m\u001b[0;34m(\u001b[0m\u001b[0m_\u001b[0m\u001b[0;34m)\u001b[0m\u001b[0;34m\u001b[0m\u001b[0m\n\u001b[1;32m     11\u001b[0m     \u001b[0;31m#inception_v3.train_on_batch(x, y)\u001b[0m\u001b[0;34m\u001b[0m\u001b[0;34m\u001b[0m\u001b[0m\n\u001b[0;32m---> 12\u001b[0;31m     \u001b[0minception_v3\u001b[0m\u001b[0;34m.\u001b[0m\u001b[0mfit\u001b[0m\u001b[0;34m(\u001b[0m\u001b[0mx\u001b[0m\u001b[0;34m=\u001b[0m\u001b[0mimg_data\u001b[0m\u001b[0;34m,\u001b[0m \u001b[0my\u001b[0m\u001b[0;34m=\u001b[0m\u001b[0mbreed_data\u001b[0m\u001b[0;34m,\u001b[0m \u001b[0mbatch_size\u001b[0m\u001b[0;34m=\u001b[0m\u001b[0mbatch_size\u001b[0m\u001b[0;34m)\u001b[0m\u001b[0;34m\u001b[0m\u001b[0m\n\u001b[0m\u001b[1;32m     13\u001b[0m     \u001b[0;31m#print(img_data[0])\u001b[0m\u001b[0;34m\u001b[0m\u001b[0;34m\u001b[0m\u001b[0m\n",
      "\u001b[0;32m/home/ben/miniconda3/envs/gameAI/lib/python3.4/site-packages/tensorflow/python/keras/_impl/keras/engine/training.py\u001b[0m in \u001b[0;36mfit\u001b[0;34m(self, x, y, batch_size, epochs, verbose, callbacks, validation_split, validation_data, shuffle, class_weight, sample_weight, initial_epoch, steps_per_epoch, validation_steps, **kwargs)\u001b[0m\n\u001b[1;32m   1679\u001b[0m         \u001b[0mclass_weight\u001b[0m\u001b[0;34m=\u001b[0m\u001b[0mclass_weight\u001b[0m\u001b[0;34m,\u001b[0m\u001b[0;34m\u001b[0m\u001b[0m\n\u001b[1;32m   1680\u001b[0m         \u001b[0mcheck_batch_axis\u001b[0m\u001b[0;34m=\u001b[0m\u001b[0;32mFalse\u001b[0m\u001b[0;34m,\u001b[0m\u001b[0;34m\u001b[0m\u001b[0m\n\u001b[0;32m-> 1681\u001b[0;31m         batch_size=batch_size)\n\u001b[0m\u001b[1;32m   1682\u001b[0m     \u001b[0;31m# Prepare validation data.\u001b[0m\u001b[0;34m\u001b[0m\u001b[0;34m\u001b[0m\u001b[0m\n\u001b[1;32m   1683\u001b[0m     \u001b[0mdo_validation\u001b[0m \u001b[0;34m=\u001b[0m \u001b[0;32mFalse\u001b[0m\u001b[0;34m\u001b[0m\u001b[0m\n",
      "\u001b[0;32m/home/ben/miniconda3/envs/gameAI/lib/python3.4/site-packages/tensorflow/python/keras/_impl/keras/engine/training.py\u001b[0m in \u001b[0;36m_standardize_user_data\u001b[0;34m(self, x, y, sample_weight, class_weight, check_batch_axis, batch_size)\u001b[0m\n\u001b[1;32m   1512\u001b[0m         \u001b[0moutput_shapes\u001b[0m\u001b[0;34m,\u001b[0m\u001b[0;34m\u001b[0m\u001b[0m\n\u001b[1;32m   1513\u001b[0m         \u001b[0mcheck_batch_axis\u001b[0m\u001b[0;34m=\u001b[0m\u001b[0;32mFalse\u001b[0m\u001b[0;34m,\u001b[0m\u001b[0;34m\u001b[0m\u001b[0m\n\u001b[0;32m-> 1514\u001b[0;31m         exception_prefix='target')\n\u001b[0m\u001b[1;32m   1515\u001b[0m     sample_weights = _standardize_sample_weights(sample_weight,\n\u001b[1;32m   1516\u001b[0m                                                  self._feed_output_names)\n",
      "\u001b[0;32m/home/ben/miniconda3/envs/gameAI/lib/python3.4/site-packages/tensorflow/python/keras/_impl/keras/engine/training.py\u001b[0m in \u001b[0;36m_standardize_input_data\u001b[0;34m(data, names, shapes, check_batch_axis, exception_prefix)\u001b[0m\n\u001b[1;32m    146\u001b[0m                 \u001b[0;34m'Error when checking '\u001b[0m \u001b[0;34m+\u001b[0m \u001b[0mexception_prefix\u001b[0m \u001b[0;34m+\u001b[0m \u001b[0;34m': expected '\u001b[0m \u001b[0;34m+\u001b[0m\u001b[0;34m\u001b[0m\u001b[0m\n\u001b[1;32m    147\u001b[0m                 \u001b[0mnames\u001b[0m\u001b[0;34m[\u001b[0m\u001b[0mi\u001b[0m\u001b[0;34m]\u001b[0m \u001b[0;34m+\u001b[0m \u001b[0;34m' to have shape '\u001b[0m \u001b[0;34m+\u001b[0m \u001b[0mstr\u001b[0m\u001b[0;34m(\u001b[0m\u001b[0mshape\u001b[0m\u001b[0;34m)\u001b[0m \u001b[0;34m+\u001b[0m\u001b[0;34m\u001b[0m\u001b[0m\n\u001b[0;32m--> 148\u001b[0;31m                 ' but got array with shape ' + str(data_shape))\n\u001b[0m\u001b[1;32m    149\u001b[0m   \u001b[0;32mreturn\u001b[0m \u001b[0mdata\u001b[0m\u001b[0;34m\u001b[0m\u001b[0m\n\u001b[1;32m    150\u001b[0m \u001b[0;34m\u001b[0m\u001b[0m\n",
      "\u001b[0;31mValueError\u001b[0m: Error when checking target: expected global_max_pooling2d_6 to have shape (2048,) but got array with shape (120,)"
     ]
    }
   ],
   "source": [
    "with tf.Session() as ss:\n",
    "    #ss.run(inception_v3.compile(optimizer_fn,\n",
    "     #                   loss_fn))\n",
    "    img_data = train_input_fn(1)\n",
    "    breed_data = train_output_fn(1)\n",
    "    print(breed_data.shape)\n",
    "    \n",
    "    inception_v3.compile(loss=tf.keras.losses.mean_squared_error,\n",
    "                        optimizer='sgd')\n",
    "    inception_v3.build(_)\n",
    "    #inception_v3.train_on_batch(x, y)\n",
    "    inception_v3.fit(x=img_data, y=breed_data, batch_size=batch_size)\n",
    "    #print(img_data[0])"
   ]
  },
  {
   "cell_type": "code",
   "execution_count": null,
   "metadata": {
    "collapsed": true
   },
   "outputs": [],
   "source": []
  }
 ],
 "metadata": {
  "kernelspec": {
   "display_name": "Python (gameAI)",
   "language": "python",
   "name": "gameai"
  },
  "language_info": {
   "codemirror_mode": {
    "name": "ipython",
    "version": 3
   },
   "file_extension": ".py",
   "mimetype": "text/x-python",
   "name": "python",
   "nbconvert_exporter": "python",
   "pygments_lexer": "ipython3",
   "version": "3.4.5"
  }
 },
 "nbformat": 4,
 "nbformat_minor": 2
}
