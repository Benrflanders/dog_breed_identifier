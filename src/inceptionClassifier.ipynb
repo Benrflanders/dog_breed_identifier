{
 "cells": [
  {
   "cell_type": "code",
   "execution_count": 1,
   "metadata": {
    "collapsed": false
   },
   "outputs": [],
   "source": [
    "import numpy as np #linear algebra\n",
    "import pandas as pd #data preprocessing\n",
    "import matplotlib.pyplot as plt #data visualization\n",
    "import h5py\n",
    "import PIL\n",
    "\n",
    "import utils.general_utils as util\n",
    "from utils.general_utils import populate_breeds, get_imgMatrix_from_id, get_breed_value_from_id, get_filename_from_id\n",
    "#other built utilities\n",
    "\n",
    "from data_loader import dataFrameBuilder\n",
    "\n",
    "#using inception_v3 to classify dog breeds\n",
    "import tensorflow as tf #import tensroflow\n",
    "\n"
   ]
  },
  {
   "cell_type": "code",
   "execution_count": 2,
   "metadata": {
    "collapsed": false
   },
   "outputs": [],
   "source": [
    "#PARAMETERS\n",
    "image_size = 500\n",
    "batch_size = 100"
   ]
  },
  {
   "cell_type": "code",
   "execution_count": 3,
   "metadata": {
    "collapsed": false
   },
   "outputs": [],
   "source": [
    "%matplotlib inline\n",
    "\n",
    "#prepare csv files\n",
    "train = pd.read_csv(\"../data/included/labels.csv\")\n",
    "test = pd.read_csv(\"../data/included/test_id.csv\")\n",
    "BREED_LIST = \"../data/preprocessed_data/breed_list.csv\""
   ]
  },
  {
   "cell_type": "code",
   "execution_count": 4,
   "metadata": {
    "collapsed": false
   },
   "outputs": [],
   "source": [
    "#prepare the breed list dataframe\n",
    "labels = populate_breeds(BREED_LIST) #get the list of all dog breeds\n",
    "labels_np = np.array(labels).reshape(120,1) #labels list reshaped to numpy array"
   ]
  },
  {
   "cell_type": "code",
   "execution_count": 5,
   "metadata": {
    "collapsed": false
   },
   "outputs": [],
   "source": [
    "#x = tf.placeholder(tf.float32, shape=[None, 500,500, 3], name='input_data')\n",
    "x = tf.keras.layers.Input(shape=[500,500,3], batch_size=batch_size,name='input_data',dtype='float32')\n",
    "y = tf.placeholder(tf.float32, shape=[None, 120], name='correct_labels')\n",
    "\n",
    "y_pred = tf.placeholder(tf.float32, shape=[None,120], name='predicted_labels')"
   ]
  },
  {
   "cell_type": "code",
   "execution_count": 24,
   "metadata": {
    "collapsed": false
   },
   "outputs": [
    {
     "name": "stdout",
     "output_type": "stream",
     "text": [
      "File:  1\n",
      "                                 ID  \\\n",
      "0  0b3d3120a62c2bc280f589d473041d06   \n",
      "\n",
      "                                          Image Data  \\\n",
      "0  [[[0, 0, 0], [0, 0, 0], [0, 0, 0], [0, 0, 0], ...   \n",
      "\n",
      "                                               Breed  \n",
      "0  [0, 0, 0, 0, 0, 0, 0, 0, 0, 0, 0, 0, 0, 0, 0, ...  \n"
     ]
    }
   ],
   "source": [
    "def train_input_fn(data_amnt = None):\n",
    "    df = dataFrameBuilder(data_amnt)\n",
    "    #df.shuffle().repeat().batch(batch_size)\n",
    "    print(df.sample(1))\n",
    "    return df.as_matrix(columns=['Image Data'])\n",
    "\n",
    "def train_output_fn(data_amnt = None):\n",
    "    df = dataFrameBuilder(data_amnt)\n",
    "    return df.as_matrix(columns=['Breed'])\n",
    "\n",
    "\n",
    "a = train_input_fn(100)"
   ]
  },
  {
   "cell_type": "code",
   "execution_count": 7,
   "metadata": {
    "collapsed": false
   },
   "outputs": [],
   "source": [
    "#create an input layer\n",
    "#input = tf.placeholder(tf.float32, [None, image_size*image_size])\n",
    "#labels = tf.placeholder(tf.float32, [None, len(labels_np)])\n",
    "\n",
    "#train_input_layer = tf.keras.layers.Input(tensor=x, name='input_layer')\n",
    "#train_output_layer = tf.keras.layers."
   ]
  },
  {
   "cell_type": "code",
   "execution_count": 8,
   "metadata": {
    "collapsed": false
   },
   "outputs": [],
   "source": [
    "#loss function\n",
    "#loss = tf.keras\n",
    "#optimizer_fn = tf.keras.optimizers.Adam()\n",
    "\n",
    "#loss_fn = tf.keras.losses.categorical_hinge(y,\n",
    "#                                           y_pred)\n",
    "\n",
    "#loss_fn = tf.losses.hinge_loss(labels=y, logits=y_pred)\n",
    "\n",
    "#loss_fn = tf.keras.losses.hinge(y_true=y, y_pred=y_pred)"
   ]
  },
  {
   "cell_type": "code",
   "execution_count": 9,
   "metadata": {
    "collapsed": false
   },
   "outputs": [],
   "source": [
    "inception_v3 = tf.keras.applications.InceptionV3(include_top=False,\n",
    "                                                weights='imagenet',\n",
    "                                                input_tensor=x,\n",
    "                                                input_shape=[image_size,image_size,3],\n",
    "                                                pooling='max',\n",
    "                                                classes=120)"
   ]
  },
  {
   "cell_type": "code",
   "execution_count": 20,
   "metadata": {
    "collapsed": false
   },
   "outputs": [
    {
     "name": "stdout",
     "output_type": "stream",
     "text": [
      "File:  1\n",
      "File:  1\n",
      "[array([[[0, 0, 0],\n",
      "        [0, 0, 0],\n",
      "        [0, 0, 0],\n",
      "        ...,\n",
      "        [0, 0, 0],\n",
      "        [0, 0, 0],\n",
      "        [0, 0, 0]],\n",
      "\n",
      "       [[0, 0, 0],\n",
      "        [0, 0, 0],\n",
      "        [0, 0, 0],\n",
      "        ...,\n",
      "        [0, 0, 0],\n",
      "        [0, 0, 0],\n",
      "        [0, 0, 0]],\n",
      "\n",
      "       [[0, 0, 0],\n",
      "        [0, 0, 0],\n",
      "        [0, 0, 0],\n",
      "        ...,\n",
      "        [0, 0, 0],\n",
      "        [0, 0, 0],\n",
      "        [0, 0, 0]],\n",
      "\n",
      "       ...,\n",
      "\n",
      "       [[0, 0, 0],\n",
      "        [0, 0, 0],\n",
      "        [0, 0, 0],\n",
      "        ...,\n",
      "        [0, 0, 0],\n",
      "        [0, 0, 0],\n",
      "        [0, 0, 0]],\n",
      "\n",
      "       [[0, 0, 0],\n",
      "        [0, 0, 0],\n",
      "        [0, 0, 0],\n",
      "        ...,\n",
      "        [0, 0, 0],\n",
      "        [0, 0, 0],\n",
      "        [0, 0, 0]],\n",
      "\n",
      "       [[0, 0, 0],\n",
      "        [0, 0, 0],\n",
      "        [0, 0, 0],\n",
      "        ...,\n",
      "        [0, 0, 0],\n",
      "        [0, 0, 0],\n",
      "        [0, 0, 0]]], dtype=uint8)]\n"
     ]
    }
   ],
   "source": [
    "with tf.Session() as ss:\n",
    "    #ss.run(inception_v3.compile(optimizer_fn,\n",
    "     #                   loss_fn))\n",
    "    img_data = train_input_fn(100)\n",
    "    breed_data = train_output_fn(100)\n",
    "    \n",
    "    \n",
    "    inception_v3.compile(loss=tf.keras.losses.mean_squared_error,\n",
    "                        optimizer='sgd')\n",
    "    inception_v3.build(_)\n",
    "    #inception_v3.train_on_batch(x, y)\n",
    "    #inception_v3.fit(x=img_data, y=breed_data, batch_size=batch_size)\n",
    "    print(img_data[0])"
   ]
  },
  {
   "cell_type": "code",
   "execution_count": null,
   "metadata": {
    "collapsed": true
   },
   "outputs": [],
   "source": []
  }
 ],
 "metadata": {
  "kernelspec": {
   "display_name": "Python (gameAI)",
   "language": "python",
   "name": "gameai"
  },
  "language_info": {
   "codemirror_mode": {
    "name": "ipython",
    "version": 3
   },
   "file_extension": ".py",
   "mimetype": "text/x-python",
   "name": "python",
   "nbconvert_exporter": "python",
   "pygments_lexer": "ipython3",
   "version": "3.4.5"
  }
 },
 "nbformat": 4,
 "nbformat_minor": 2
}
