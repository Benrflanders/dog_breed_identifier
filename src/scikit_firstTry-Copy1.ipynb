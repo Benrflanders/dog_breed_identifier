{
 "cells": [
  {
   "cell_type": "code",
   "execution_count": 1,
   "metadata": {},
   "outputs": [
    {
     "ename": "ImportError",
     "evalue": "cannot import name 'get_breed_matrix_from_id'",
     "output_type": "error",
     "traceback": [
      "\u001b[0;31m---------------------------------------------------------------------------\u001b[0m",
      "\u001b[0;31mImportError\u001b[0m                               Traceback (most recent call last)",
      "\u001b[0;32m<ipython-input-1-34978fd68a44>\u001b[0m in \u001b[0;36m<module>\u001b[0;34m()\u001b[0m\n\u001b[1;32m      5\u001b[0m \u001b[0;32mimport\u001b[0m \u001b[0mmatplotlib\u001b[0m\u001b[0;34m.\u001b[0m\u001b[0mpyplot\u001b[0m \u001b[0;32mas\u001b[0m \u001b[0mplt\u001b[0m \u001b[0;31m#data visualization\u001b[0m\u001b[0;34m\u001b[0m\u001b[0m\n\u001b[1;32m      6\u001b[0m \u001b[0;34m\u001b[0m\u001b[0m\n\u001b[0;32m----> 7\u001b[0;31m \u001b[0;32mfrom\u001b[0m \u001b[0mutils\u001b[0m\u001b[0;34m.\u001b[0m\u001b[0mgeneral_utils\u001b[0m \u001b[0;32mimport\u001b[0m \u001b[0mpopulate_breeds\u001b[0m\u001b[0;34m,\u001b[0m \u001b[0mget_imgMatrix_from_id\u001b[0m\u001b[0;34m,\u001b[0m \u001b[0mget_breed_matrix_from_id\u001b[0m\u001b[0;34m\u001b[0m\u001b[0m\n\u001b[0m\u001b[1;32m      8\u001b[0m \u001b[0;34m\u001b[0m\u001b[0m\n\u001b[1;32m      9\u001b[0m \u001b[0mget_ipython\u001b[0m\u001b[0;34m(\u001b[0m\u001b[0;34m)\u001b[0m\u001b[0;34m.\u001b[0m\u001b[0mmagic\u001b[0m\u001b[0;34m(\u001b[0m\u001b[0;34m'matplotlib inline'\u001b[0m\u001b[0;34m)\u001b[0m\u001b[0;34m\u001b[0m\u001b[0m\n",
      "\u001b[0;31mImportError\u001b[0m: cannot import name 'get_breed_matrix_from_id'"
     ]
    }
   ],
   "source": [
    "#using SGD Classifier to solve Kaggle's Dog Breed Identification Problem\n",
    "\n",
    "import numpy as np #linear algebra\n",
    "import pandas as pd #data preprocessing\n",
    "import matplotlib.pyplot as plt #data visualization\n",
    "\n",
    "from utils.general_utils import populate_breeds, get_imgMatrix_from_id, get_breed_matrix_from_id\n",
    "\n",
    "%matplotlib inline\n",
    "\n",
    "#import csv files\n",
    "train = pd.read_csv(\"../data/included/labels.csv\")\n",
    "test = pd.read_csv(\"../data/included/sample_submission.csv\")\n",
    "\n",
    "#train.sample(5)"
   ]
  },
  {
   "cell_type": "code",
   "execution_count": null,
   "metadata": {},
   "outputs": [],
   "source": [
    "#img_matricies_np = train.as_matrix()\n",
    "#img_matricies_np\n",
    "#img_matricies_np = np.array(get_imgMatrix_from_id(train['id'].at()), dtype='float64')\n",
    "\n",
    "img_matricies_list = []\n",
    "\n",
    "img_matricies_internal = get_imgMatrix_from_id(train['id'][1])\n",
    "\n",
    "#img_matricies_np = np.empty([1,len(train)], dtype=np.array([32,32,3], dtype=float))\n",
    "#img_matricies_np.vstack(img_matricies_internal)\n",
    "\n",
    "img_matricies_internal.shape\n",
    "\n",
    "for index, row in train.iterrows():\n",
    "    #print(row['id'])\n",
    "    #print(get_imgMatrix_from_id(id)) \n",
    "    if(get_imgMatrix_from_id(row['id']).shape != img_matricies_internal.shape):\n",
    "        print(\"ERROR: Not correct matrix shape at id \" + row['id']) #check for incorrectly shaped matrix\n",
    "        \n",
    "    img_matricies_list.append(get_imgMatrix_from_id(row['id']))\n",
    "    #append all matricies to a list\n",
    "    #each matrix is 32x32x3\n",
    "    #the list will then be converted to a numpy array"
   ]
  },
  {
   "cell_type": "code",
   "execution_count": null,
   "metadata": {},
   "outputs": [],
   "source": [
    "img_matricies_np = np.asarray(img_matricies_list) #convert the list of matricies to a numpy array\n",
    "#img_matricies_np = np.expand_dims(img_matricies_np,axis = 0)\n",
    "\n",
    "#a = np.array(get_imgMatrix_from_id(train.loc[1]['id']))\n",
    "#a = np.expand_dims(a, axis=0)\n",
    "#b = get_imgMatrix_from_id(row['id'])\n",
    "#img_matricies_np = np.concatenate((img_matricies_np, a),axis=0)\n",
    "\n",
    "img_matricies_np.shape #number of samples x 32 x 32 x 3 matrix, each individual matrix is concatenated along axis 0"
   ]
  },
  {
   "cell_type": "code",
   "execution_count": null,
   "metadata": {
    "scrolled": true
   },
   "outputs": [],
   "source": [
    "#train_matrixCol = np.asarray(img_matricies)\n",
    "#img_matricies_np = np.asarray(img_matricies)\n",
    "#train['matrix'] = img_matricies #adds the list of image matricies to the dataframe\n",
    "#train = train.drop(['id'],axis=1) #there is no longer a use for IDs\n",
    "#train.sample(5) #the train dataframe is complete :D\n",
    "len(img_matricies_np)"
   ]
  },
  {
   "cell_type": "code",
   "execution_count": null,
   "metadata": {},
   "outputs": [],
   "source": [
    "#prepare the breed list dataframe\n",
    "\n",
    "BREED_LIST = \"../data/preprocessed_data/breed_list.csv\"\n",
    "labels = populate_breeds(BREED_LIST) #get the list of all dog breeds\n",
    "labels_np = np.array(labels).reshape(120,1) #labels list reshaped to numpy array\n",
    "labels_df = pd.DataFrame(labels_np ,columns = list(\"B\")) #convert list of labels (dog breeds)\n",
    "#into a dataframe for eaiser use with classifier\n",
    "#column name is 'B' because I'm not sure how to make it more than one letter\n",
    "\n",
    "labels_np #looks good"
   ]
  },
  {
   "cell_type": "code",
   "execution_count": null,
   "metadata": {},
   "outputs": [],
   "source": [
    "labels_np = labels_np.transpose()\n",
    "target_values_list = []\n",
    "print(train.loc[5]['id'])\n",
    "\n",
    "get_breed_matrix_from_id(train.loc[5]['id'], labels_list=labels)\n",
    "\n",
    "#returns a list of 0.0s except for one index which corresponds to the location of that dog breed"
   ]
  },
  {
   "cell_type": "code",
   "execution_count": null,
   "metadata": {},
   "outputs": [],
   "source": [
    "#TODO tomorrow: generate all output arrays for the y portion of the .fit()\n",
    "#use the function in the cell above for each sample, then append all lists into one numpy array\n",
    "#should be #samples x 1(?/number of breeds) \n",
    "\n",
    "#create target matrix\n",
    "#for each corresponding id there exists a row float values 0.0 to 1.0 where the sum of the array = 1.0\n",
    "\n",
    "#reshape labels_np to create 120 columns x 1 row\n",
    "#this will be the layout for each row\n",
    "\n",
    "labels_np = labels_np.transpose()\n",
    "\n",
    "#append all individual arrays into a list, then reshape or use above function\n",
    "target_values_list = []\n",
    "\n",
    "for index, row in train.iterrows():\n",
    "    #print(row['id'])\n",
    "    #print(get_imgMatrix_from_id(id)) \n",
    "    #if(get_imgMatrix_from_id(row['id']).shape != img_matricies_internal.shape):\n",
    "    #    print(\"ERROR: Not correct matrix shape at id \" + row['id']) #check for incorrectly shaped matrix\n",
    "        \n",
    "    target_values_list.append(get_breed_matrix_from_id(row['id'], labels_list=labels_np))\n",
    "    #append all matricies to a list\n",
    "    #each matrix is 32x32x3\n",
    "    #the list will then be converted to a numpy array"
   ]
  },
  {
   "cell_type": "code",
   "execution_count": null,
   "metadata": {
    "scrolled": true
   },
   "outputs": [],
   "source": [
    "#print(img_matricies_np[1].shape) #32x32x3\n",
    "\n",
    "\n",
    "#print(img_matricies[0])\n",
    "#plt.imshow(train['matrix'].iloc[10])\n",
    "plt.imshow(img_matricies_np[50])\n",
    "plt.show()\n",
    "\n",
    "\n",
    "#train['matrix'].iloc[1].shape"
   ]
  },
  {
   "cell_type": "code",
   "execution_count": null,
   "metadata": {
    "collapsed": true
   },
   "outputs": [],
   "source": [
    "from sklearn.linear_model import SGDClassifier\n"
   ]
  },
  {
   "cell_type": "code",
   "execution_count": null,
   "metadata": {},
   "outputs": [],
   "source": [
    "\n",
    "#stopped here on Monday night... http://scikit-learn.org/stable/auto_examples/classification/plot_digits_classification.html\n",
    "\n",
    "\n",
    "\n",
    "#X = [[0.,20444.],[1.,1.]]#[n_sample, n_features]\n",
    "#need to flatten the image to make it usable\n",
    "n_samples = len(img_matricies)\n",
    "\n",
    "data = train.matrix.reshape((n_samples, -1))\n",
    "\n",
    "X = train['matrix'].reshape(-1,1)\n",
    "\n",
    "#y = [0, 120] #[#n_samples] - the target values/class labels\n",
    "y = labels_df['B']\n",
    "\n",
    "clf = SGDClassifier(loss=\"hinge\",penalty=\"l2\")\n",
    "clf.fit(data[:n_samples], train.breed[:n_samples])"
   ]
  },
  {
   "cell_type": "code",
   "execution_count": null,
   "metadata": {},
   "outputs": [],
   "source": [
    "clf.predict([[2., 2.]])"
   ]
  },
  {
   "cell_type": "code",
   "execution_count": null,
   "metadata": {
    "collapsed": true
   },
   "outputs": [],
   "source": []
  },
  {
   "cell_type": "code",
   "execution_count": null,
   "metadata": {
    "collapsed": true
   },
   "outputs": [],
   "source": []
  }
 ],
 "metadata": {
  "kernelspec": {
   "display_name": "Python (gameAI)",
   "language": "python",
   "name": "gameai"
  },
  "language_info": {
   "codemirror_mode": {
    "name": "ipython",
    "version": 3
   },
   "file_extension": ".py",
   "mimetype": "text/x-python",
   "name": "python",
   "nbconvert_exporter": "python",
   "pygments_lexer": "ipython3",
   "version": "3.4.5"
  }
 },
 "nbformat": 4,
 "nbformat_minor": 2
}
