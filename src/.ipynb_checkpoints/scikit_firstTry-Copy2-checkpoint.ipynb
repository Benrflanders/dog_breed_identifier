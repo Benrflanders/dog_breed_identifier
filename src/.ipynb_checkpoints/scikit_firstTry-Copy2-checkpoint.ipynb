{
 "cells": [
  {
   "cell_type": "code",
   "execution_count": 4,
   "metadata": {
    "collapsed": false
   },
   "outputs": [],
   "source": [
    "#using SGD Classifier to solve Kaggle's Dog Breed Identification Problem\n",
    "\n",
    "import numpy as np #linear algebra\n",
    "import pandas as pd #data preprocessing\n",
    "import matplotlib.pyplot as plt #data visualization\n",
    "\n",
    "from utils.general_utils import populate_breeds, get_imgMatrix_from_id, get_breed_matrix_from_id\n",
    "\n",
    "%matplotlib inline\n",
    "\n",
    "#import csv files\n",
    "train = pd.read_csv(\"../data/included/labels.csv\")\n",
    "test = pd.read_csv(\"../data/included/sample_submission.csv\")\n",
    "\n",
    "#train.sample(5)"
   ]
  },
  {
   "cell_type": "code",
   "execution_count": 5,
   "metadata": {
    "collapsed": false
   },
   "outputs": [],
   "source": [
    "#img_matricies_np = train.as_matrix()\n",
    "#img_matricies_np\n",
    "#img_matricies_np = np.array(get_imgMatrix_from_id(train['id'].at()), dtype='float64')\n",
    "\n",
    "img_matricies_list = []\n",
    "\n",
    "img_matricies_internal = get_imgMatrix_from_id(train['id'][1])\n",
    "\n",
    "#img_matricies_np = np.empty([1,len(train)], dtype=np.array([32,32,3], dtype=float))\n",
    "#img_matricies_np.vstack(img_matricies_internal)\n",
    "\n",
    "img_matricies_internal.shape\n",
    "\n",
    "for index, row in train.iterrows():\n",
    "    #print(row['id'])\n",
    "    #print(get_imgMatrix_from_id(id)) \n",
    "    if(get_imgMatrix_from_id(row['id']).shape != img_matricies_internal.shape):\n",
    "        print(\"ERROR: Not correct matrix shape at id \" + row['id']) #check for incorrectly shaped matrix\n",
    "        \n",
    "    img_matricies_list.append(get_imgMatrix_from_id(row['id']))\n",
    "    #append all matricies to a list\n",
    "    #each matrix is 32x32x3\n",
    "    #the list will then be converted to a numpy array"
   ]
  },
  {
   "cell_type": "code",
   "execution_count": 6,
   "metadata": {
    "collapsed": false
   },
   "outputs": [
    {
     "data": {
      "text/plain": [
       "(10222, 32, 32, 3)"
      ]
     },
     "execution_count": 6,
     "metadata": {},
     "output_type": "execute_result"
    }
   ],
   "source": [
    "img_matricies_np = np.asarray(img_matricies_list) #convert the list of matricies to a numpy array\n",
    "#img_matricies_np = np.expand_dims(img_matricies_np,axis = 0)\n",
    "\n",
    "#a = np.array(get_imgMatrix_from_id(train.loc[1]['id']))\n",
    "#a = np.expand_dims(a, axis=0)\n",
    "#b = get_imgMatrix_from_id(row['id'])\n",
    "#img_matricies_np = np.concatenate((img_matricies_np, a),axis=0)\n",
    "\n",
    "img_matricies_np.shape #number of samples x 32 x 32 x 3 matrix, each individual matrix is concatenated along axis 0"
   ]
  },
  {
   "cell_type": "code",
   "execution_count": 7,
   "metadata": {
    "collapsed": false,
    "scrolled": true
   },
   "outputs": [
    {
     "data": {
      "text/plain": [
       "10222"
      ]
     },
     "execution_count": 7,
     "metadata": {},
     "output_type": "execute_result"
    }
   ],
   "source": [
    "#train_matrixCol = np.asarray(img_matricies)\n",
    "#img_matricies_np = np.asarray(img_matricies)\n",
    "#train['matrix'] = img_matricies #adds the list of image matricies to the dataframe\n",
    "#train = train.drop(['id'],axis=1) #there is no longer a use for IDs\n",
    "#train.sample(5) #the train dataframe is complete :D\n",
    "len(img_matricies_np)"
   ]
  },
  {
   "cell_type": "code",
   "execution_count": 8,
   "metadata": {
    "collapsed": false
   },
   "outputs": [
    {
     "data": {
      "text/plain": [
       "array([['affenpinscher'],\n",
       "       ['afghan_hound'],\n",
       "       ['african_hunting_dog'],\n",
       "       ['airedale'],\n",
       "       ['american_staffordshire_terrier'],\n",
       "       ['appenzeller'],\n",
       "       ['australian_terrier'],\n",
       "       ['basenji'],\n",
       "       ['basset'],\n",
       "       ['beagle'],\n",
       "       ['bedlington_terrier'],\n",
       "       ['bernese_mountain_dog'],\n",
       "       ['black-and-tan_coonhound'],\n",
       "       ['blenheim_spaniel'],\n",
       "       ['bloodhound'],\n",
       "       ['bluetick'],\n",
       "       ['border_collie'],\n",
       "       ['border_terrier'],\n",
       "       ['borzoi'],\n",
       "       ['boston_bull'],\n",
       "       ['bouvier_des_flandres'],\n",
       "       ['boxer'],\n",
       "       ['brabancon_griffon'],\n",
       "       ['briard'],\n",
       "       ['brittany_spaniel'],\n",
       "       ['bull_mastiff'],\n",
       "       ['cairn'],\n",
       "       ['cardigan'],\n",
       "       ['chesapeake_bay_retriever'],\n",
       "       ['chihuahua'],\n",
       "       ['chow'],\n",
       "       ['clumber'],\n",
       "       ['cocker_spaniel'],\n",
       "       ['collie'],\n",
       "       ['curly-coated_retriever'],\n",
       "       ['dandie_dinmont'],\n",
       "       ['dhole'],\n",
       "       ['dingo'],\n",
       "       ['doberman'],\n",
       "       ['english_foxhound'],\n",
       "       ['english_setter'],\n",
       "       ['english_springer'],\n",
       "       ['entlebucher'],\n",
       "       ['eskimo_dog'],\n",
       "       ['flat-coated_retriever'],\n",
       "       ['french_bulldog'],\n",
       "       ['german_shepherd'],\n",
       "       ['german_short-haired_pointer'],\n",
       "       ['giant_schnauzer'],\n",
       "       ['golden_retriever'],\n",
       "       ['gordon_setter'],\n",
       "       ['great_dane'],\n",
       "       ['great_pyrenees'],\n",
       "       ['greater_swiss_mountain_dog'],\n",
       "       ['groenendael'],\n",
       "       ['ibizan_hound'],\n",
       "       ['irish_setter'],\n",
       "       ['irish_terrier'],\n",
       "       ['irish_water_spaniel'],\n",
       "       ['irish_wolfhound'],\n",
       "       ['italian_greyhound'],\n",
       "       ['japanese_spaniel'],\n",
       "       ['keeshond'],\n",
       "       ['kelpie'],\n",
       "       ['kerry_blue_terrier'],\n",
       "       ['komondor'],\n",
       "       ['kuvasz'],\n",
       "       ['labrador_retriever'],\n",
       "       ['lakeland_terrier'],\n",
       "       ['leonberg'],\n",
       "       ['lhasa'],\n",
       "       ['malamute'],\n",
       "       ['malinois'],\n",
       "       ['maltese_dog'],\n",
       "       ['mexican_hairless'],\n",
       "       ['miniature_pinscher'],\n",
       "       ['miniature_poodle'],\n",
       "       ['miniature_schnauzer'],\n",
       "       ['newfoundland'],\n",
       "       ['norfolk_terrier'],\n",
       "       ['norwegian_elkhound'],\n",
       "       ['norwich_terrier'],\n",
       "       ['old_english_sheepdog'],\n",
       "       ['otterhound'],\n",
       "       ['papillon'],\n",
       "       ['pekinese'],\n",
       "       ['pembroke'],\n",
       "       ['pomeranian'],\n",
       "       ['pug'],\n",
       "       ['redbone'],\n",
       "       ['rhodesian_ridgeback'],\n",
       "       ['rottweiler'],\n",
       "       ['saint_bernard'],\n",
       "       ['saluki'],\n",
       "       ['samoyed'],\n",
       "       ['schipperke'],\n",
       "       ['scotch_terrier'],\n",
       "       ['scottish_deerhound'],\n",
       "       ['sealyham_terrier'],\n",
       "       ['shetland_sheepdog'],\n",
       "       ['shih-tzu'],\n",
       "       ['siberian_husky'],\n",
       "       ['silky_terrier'],\n",
       "       ['soft-coated_wheaten_terrier'],\n",
       "       ['staffordshire_bullterrier'],\n",
       "       ['standard_poodle'],\n",
       "       ['standard_schnauzer'],\n",
       "       ['sussex_spaniel'],\n",
       "       ['tibetan_mastiff'],\n",
       "       ['tibetan_terrier'],\n",
       "       ['toy_poodle'],\n",
       "       ['toy_terrier'],\n",
       "       ['vizsla'],\n",
       "       ['walker_hound'],\n",
       "       ['weimaraner'],\n",
       "       ['welsh_springer_spaniel'],\n",
       "       ['west_highland_white_terrier'],\n",
       "       ['whippet'],\n",
       "       ['wire-haired_fox_terrier'],\n",
       "       ['yorkshire_terrier']], dtype='<U30')"
      ]
     },
     "execution_count": 8,
     "metadata": {},
     "output_type": "execute_result"
    }
   ],
   "source": [
    "#prepare the breed list dataframe\n",
    "\n",
    "BREED_LIST = \"../data/preprocessed_data/breed_list.csv\"\n",
    "labels = populate_breeds(BREED_LIST) #get the list of all dog breeds\n",
    "labels_np = np.array(labels).reshape(120,1) #labels list reshaped to numpy array\n",
    "labels_df = pd.DataFrame(labels_np ,columns = list(\"B\")) #convert list of labels (dog breeds)\n",
    "#into a dataframe for eaiser use with classifier\n",
    "#column name is 'B' because I'm not sure how to make it more than one letter\n",
    "\n",
    "labels_np #looks good"
   ]
  },
  {
   "cell_type": "code",
   "execution_count": 9,
   "metadata": {
    "collapsed": false
   },
   "outputs": [
    {
     "name": "stdout",
     "output_type": "stream",
     "text": [
      "002211c81b498ef88e1b40b9abf84e1d\n"
     ]
    },
    {
     "data": {
      "text/plain": [
       "[0.0,\n",
       " 0.0,\n",
       " 0.0,\n",
       " 0.0,\n",
       " 0.0,\n",
       " 0.0,\n",
       " 0.0,\n",
       " 0.0,\n",
       " 0.0,\n",
       " 0.0,\n",
       " 1.0,\n",
       " 0.0,\n",
       " 0.0,\n",
       " 0.0,\n",
       " 0.0,\n",
       " 0.0,\n",
       " 0.0,\n",
       " 0.0,\n",
       " 0.0,\n",
       " 0.0,\n",
       " 0.0,\n",
       " 0.0,\n",
       " 0.0,\n",
       " 0.0,\n",
       " 0.0,\n",
       " 0.0,\n",
       " 0.0,\n",
       " 0.0,\n",
       " 0.0,\n",
       " 0.0,\n",
       " 0.0,\n",
       " 0.0,\n",
       " 0.0,\n",
       " 0.0,\n",
       " 0.0,\n",
       " 0.0,\n",
       " 0.0,\n",
       " 0.0,\n",
       " 0.0,\n",
       " 0.0,\n",
       " 0.0,\n",
       " 0.0,\n",
       " 0.0,\n",
       " 0.0,\n",
       " 0.0,\n",
       " 0.0,\n",
       " 0.0,\n",
       " 0.0,\n",
       " 0.0,\n",
       " 0.0,\n",
       " 0.0,\n",
       " 0.0,\n",
       " 0.0,\n",
       " 0.0,\n",
       " 0.0,\n",
       " 0.0,\n",
       " 0.0,\n",
       " 0.0,\n",
       " 0.0,\n",
       " 0.0,\n",
       " 0.0,\n",
       " 0.0,\n",
       " 0.0,\n",
       " 0.0,\n",
       " 0.0,\n",
       " 0.0,\n",
       " 0.0,\n",
       " 0.0,\n",
       " 0.0,\n",
       " 0.0,\n",
       " 0.0,\n",
       " 0.0,\n",
       " 0.0,\n",
       " 0.0,\n",
       " 0.0,\n",
       " 0.0,\n",
       " 0.0,\n",
       " 0.0,\n",
       " 0.0,\n",
       " 0.0,\n",
       " 0.0,\n",
       " 0.0,\n",
       " 0.0,\n",
       " 0.0,\n",
       " 0.0,\n",
       " 0.0,\n",
       " 0.0,\n",
       " 0.0,\n",
       " 0.0,\n",
       " 0.0,\n",
       " 0.0,\n",
       " 0.0,\n",
       " 0.0,\n",
       " 0.0,\n",
       " 0.0,\n",
       " 0.0,\n",
       " 0.0,\n",
       " 0.0,\n",
       " 0.0,\n",
       " 0.0,\n",
       " 0.0,\n",
       " 0.0,\n",
       " 0.0,\n",
       " 0.0,\n",
       " 0.0,\n",
       " 0.0,\n",
       " 0.0,\n",
       " 0.0,\n",
       " 0.0,\n",
       " 0.0,\n",
       " 0.0,\n",
       " 0.0,\n",
       " 0.0,\n",
       " 0.0,\n",
       " 0.0,\n",
       " 0.0,\n",
       " 0.0,\n",
       " 0.0,\n",
       " 0.0,\n",
       " 0.0]"
      ]
     },
     "execution_count": 9,
     "metadata": {},
     "output_type": "execute_result"
    }
   ],
   "source": [
    "labels_np = labels_np.transpose()\n",
    "target_values_list = []\n",
    "print(train.loc[5]['id'])\n",
    "\n",
    "get_breed_matrix_from_id(train.loc[5]['id'], labels_list=labels)\n",
    "\n",
    "#returns a list of 0.0s except for one index which corresponds to the location of that dog breed"
   ]
  },
  {
   "cell_type": "code",
   "execution_count": 10,
   "metadata": {
    "collapsed": false
   },
   "outputs": [],
   "source": [
    "#TODO tomorrow: generate all output arrays for the y portion of the .fit()\n",
    "#use the function in the cell above for each sample, then append all lists into one numpy array\n",
    "#should be #samples x 1(?/number of breeds) \n",
    "\n",
    "#create target matrix\n",
    "#for each corresponding id there exists a row float values 0.0 to 1.0 where the sum of the array = 1.0\n",
    "\n",
    "#reshape labels_np to create 120 columns x 1 row\n",
    "#this will be the layout for each row\n",
    "\n",
    "labels_np = labels_np.transpose()\n",
    "\n",
    "#append all individual arrays into a list, then reshape or use above function\n",
    "target_values_list = []\n",
    "\n",
    "for index, row in train.iterrows():\n",
    "    #print(row['id'])\n",
    "    #print(get_imgMatrix_from_id(id)) \n",
    "    #if(get_imgMatrix_from_id(row['id']).shape != img_matricies_internal.shape):\n",
    "    #    print(\"ERROR: Not correct matrix shape at id \" + row['id']) #check for incorrectly shaped matrix\n",
    "        \n",
    "    target_values_list.append(get_breed_matrix_from_id(row['id'], labels_list=labels))\n",
    "    #append all matricies to a list\n",
    "    #each matrix is 32x32x3\n",
    "    #the list will then be converted to a numpy array"
   ]
  },
  {
   "cell_type": "code",
   "execution_count": 21,
   "metadata": {
    "collapsed": false
   },
   "outputs": [
    {
     "data": {
      "text/plain": [
       "(10222, 120)"
      ]
     },
     "execution_count": 21,
     "metadata": {},
     "output_type": "execute_result"
    }
   ],
   "source": [
    "len(target_values_list)\n",
    "\n",
    "target_values_np = np.array(target_values_list) #number of samples x number of features\n",
    "target_values_np.shape #10222 x 120"
   ]
  },
  {
   "cell_type": "code",
   "execution_count": null,
   "metadata": {
    "collapsed": false,
    "scrolled": true
   },
   "outputs": [],
   "source": [
    "#print(img_matricies_np[1].shape) #32x32x3\n",
    "\n",
    "\n",
    "#print(img_matricies[0])\n",
    "#plt.imshow(train['matrix'].iloc[10])\n",
    "plt.imshow(img_matricies_np[50])\n",
    "plt.show()\n",
    "\n",
    "\n",
    "#train['matrix'].iloc[1].shape"
   ]
  },
  {
   "cell_type": "code",
   "execution_count": 24,
   "metadata": {
    "collapsed": true
   },
   "outputs": [],
   "source": [
    "from sklearn.linear_model import SGDClassifier\n"
   ]
  },
  {
   "cell_type": "code",
   "execution_count": 34,
   "metadata": {
    "collapsed": false
   },
   "outputs": [],
   "source": [
    "#n_samples, nx, ny = img_matricies_np.shape\n",
    "n_samples, nx, ny, nz = img_matricies_np.shape\n",
    "img_matricies_np_flat = img_matricies_np.reshape((n_samples, nx*ny*nz))\n"
   ]
  },
  {
   "cell_type": "code",
   "execution_count": 38,
   "metadata": {
    "collapsed": false
   },
   "outputs": [
    {
     "name": "stderr",
     "output_type": "stream",
     "text": [
      "/home/ben/miniconda3/envs/gameAI/lib/python3.4/site-packages/sklearn/linear_model/stochastic_gradient.py:128: FutureWarning: max_iter and tol parameters have been added in <class 'sklearn.linear_model.stochastic_gradient.SGDClassifier'> in 0.19. If both are left unset, they default to max_iter=5 and tol=None. If tol is not None, max_iter defaults to max_iter=1000. From 0.21, default max_iter will be 1000, and default tol will be 1e-3.\n",
      "  \"and default tol will be 1e-3.\" % type(self), FutureWarning)\n"
     ]
    },
    {
     "ename": "ValueError",
     "evalue": "bad input shape (120, 10222)",
     "output_type": "error",
     "traceback": [
      "\u001b[0;31m---------------------------------------------------------------------------\u001b[0m",
      "\u001b[0;31mValueError\u001b[0m                                Traceback (most recent call last)",
      "\u001b[0;32m<ipython-input-38-a4917fddfc87>\u001b[0m in \u001b[0;36m<module>\u001b[0;34m()\u001b[0m\n\u001b[1;32m     18\u001b[0m \u001b[0;34m\u001b[0m\u001b[0m\n\u001b[1;32m     19\u001b[0m \u001b[0mclf\u001b[0m \u001b[0;34m=\u001b[0m \u001b[0mSGDClassifier\u001b[0m\u001b[0;34m(\u001b[0m\u001b[0mloss\u001b[0m\u001b[0;34m=\u001b[0m\u001b[0;34m\"hinge\"\u001b[0m\u001b[0;34m,\u001b[0m\u001b[0mpenalty\u001b[0m\u001b[0;34m=\u001b[0m\u001b[0;34m\"l2\"\u001b[0m\u001b[0;34m)\u001b[0m\u001b[0;34m\u001b[0m\u001b[0m\n\u001b[0;32m---> 20\u001b[0;31m \u001b[0mclf\u001b[0m\u001b[0;34m.\u001b[0m\u001b[0mfit\u001b[0m\u001b[0;34m(\u001b[0m\u001b[0mX\u001b[0m\u001b[0;34m[\u001b[0m\u001b[0;34m:\u001b[0m\u001b[0mn_samples\u001b[0m\u001b[0;34m]\u001b[0m\u001b[0;34m,\u001b[0m \u001b[0my\u001b[0m\u001b[0;34m[\u001b[0m\u001b[0;34m:\u001b[0m\u001b[0mn_samples\u001b[0m\u001b[0;34m]\u001b[0m\u001b[0;34m)\u001b[0m\u001b[0;34m\u001b[0m\u001b[0m\n\u001b[0m",
      "\u001b[0;32m/home/ben/miniconda3/envs/gameAI/lib/python3.4/site-packages/sklearn/linear_model/stochastic_gradient.py\u001b[0m in \u001b[0;36mfit\u001b[0;34m(self, X, y, coef_init, intercept_init, sample_weight)\u001b[0m\n\u001b[1;32m    584\u001b[0m                          \u001b[0mloss\u001b[0m\u001b[0;34m=\u001b[0m\u001b[0mself\u001b[0m\u001b[0;34m.\u001b[0m\u001b[0mloss\u001b[0m\u001b[0;34m,\u001b[0m \u001b[0mlearning_rate\u001b[0m\u001b[0;34m=\u001b[0m\u001b[0mself\u001b[0m\u001b[0;34m.\u001b[0m\u001b[0mlearning_rate\u001b[0m\u001b[0;34m,\u001b[0m\u001b[0;34m\u001b[0m\u001b[0m\n\u001b[1;32m    585\u001b[0m                          \u001b[0mcoef_init\u001b[0m\u001b[0;34m=\u001b[0m\u001b[0mcoef_init\u001b[0m\u001b[0;34m,\u001b[0m \u001b[0mintercept_init\u001b[0m\u001b[0;34m=\u001b[0m\u001b[0mintercept_init\u001b[0m\u001b[0;34m,\u001b[0m\u001b[0;34m\u001b[0m\u001b[0m\n\u001b[0;32m--> 586\u001b[0;31m                          sample_weight=sample_weight)\n\u001b[0m\u001b[1;32m    587\u001b[0m \u001b[0;34m\u001b[0m\u001b[0m\n\u001b[1;32m    588\u001b[0m \u001b[0;34m\u001b[0m\u001b[0m\n",
      "\u001b[0;32m/home/ben/miniconda3/envs/gameAI/lib/python3.4/site-packages/sklearn/linear_model/stochastic_gradient.py\u001b[0m in \u001b[0;36m_fit\u001b[0;34m(self, X, y, alpha, C, loss, learning_rate, coef_init, intercept_init, sample_weight)\u001b[0m\n\u001b[1;32m    416\u001b[0m             \u001b[0mself\u001b[0m\u001b[0;34m.\u001b[0m\u001b[0mclasses_\u001b[0m \u001b[0;34m=\u001b[0m \u001b[0;32mNone\u001b[0m\u001b[0;34m\u001b[0m\u001b[0m\n\u001b[1;32m    417\u001b[0m \u001b[0;34m\u001b[0m\u001b[0m\n\u001b[0;32m--> 418\u001b[0;31m         \u001b[0mX\u001b[0m\u001b[0;34m,\u001b[0m \u001b[0my\u001b[0m \u001b[0;34m=\u001b[0m \u001b[0mcheck_X_y\u001b[0m\u001b[0;34m(\u001b[0m\u001b[0mX\u001b[0m\u001b[0;34m,\u001b[0m \u001b[0my\u001b[0m\u001b[0;34m,\u001b[0m \u001b[0;34m'csr'\u001b[0m\u001b[0;34m,\u001b[0m \u001b[0mdtype\u001b[0m\u001b[0;34m=\u001b[0m\u001b[0mnp\u001b[0m\u001b[0;34m.\u001b[0m\u001b[0mfloat64\u001b[0m\u001b[0;34m,\u001b[0m \u001b[0morder\u001b[0m\u001b[0;34m=\u001b[0m\u001b[0;34m\"C\"\u001b[0m\u001b[0;34m)\u001b[0m\u001b[0;34m\u001b[0m\u001b[0m\n\u001b[0m\u001b[1;32m    419\u001b[0m         \u001b[0mn_samples\u001b[0m\u001b[0;34m,\u001b[0m \u001b[0mn_features\u001b[0m \u001b[0;34m=\u001b[0m \u001b[0mX\u001b[0m\u001b[0;34m.\u001b[0m\u001b[0mshape\u001b[0m\u001b[0;34m\u001b[0m\u001b[0m\n\u001b[1;32m    420\u001b[0m \u001b[0;34m\u001b[0m\u001b[0m\n",
      "\u001b[0;32m/home/ben/miniconda3/envs/gameAI/lib/python3.4/site-packages/sklearn/utils/validation.py\u001b[0m in \u001b[0;36mcheck_X_y\u001b[0;34m(X, y, accept_sparse, dtype, order, copy, force_all_finite, ensure_2d, allow_nd, multi_output, ensure_min_samples, ensure_min_features, y_numeric, warn_on_dtype, estimator)\u001b[0m\n\u001b[1;32m    576\u001b[0m                         dtype=None)\n\u001b[1;32m    577\u001b[0m     \u001b[0;32melse\u001b[0m\u001b[0;34m:\u001b[0m\u001b[0;34m\u001b[0m\u001b[0m\n\u001b[0;32m--> 578\u001b[0;31m         \u001b[0my\u001b[0m \u001b[0;34m=\u001b[0m \u001b[0mcolumn_or_1d\u001b[0m\u001b[0;34m(\u001b[0m\u001b[0my\u001b[0m\u001b[0;34m,\u001b[0m \u001b[0mwarn\u001b[0m\u001b[0;34m=\u001b[0m\u001b[0;32mTrue\u001b[0m\u001b[0;34m)\u001b[0m\u001b[0;34m\u001b[0m\u001b[0m\n\u001b[0m\u001b[1;32m    579\u001b[0m         \u001b[0m_assert_all_finite\u001b[0m\u001b[0;34m(\u001b[0m\u001b[0my\u001b[0m\u001b[0;34m)\u001b[0m\u001b[0;34m\u001b[0m\u001b[0m\n\u001b[1;32m    580\u001b[0m     \u001b[0;32mif\u001b[0m \u001b[0my_numeric\u001b[0m \u001b[0;32mand\u001b[0m \u001b[0my\u001b[0m\u001b[0;34m.\u001b[0m\u001b[0mdtype\u001b[0m\u001b[0;34m.\u001b[0m\u001b[0mkind\u001b[0m \u001b[0;34m==\u001b[0m \u001b[0;34m'O'\u001b[0m\u001b[0;34m:\u001b[0m\u001b[0;34m\u001b[0m\u001b[0m\n",
      "\u001b[0;32m/home/ben/miniconda3/envs/gameAI/lib/python3.4/site-packages/sklearn/utils/validation.py\u001b[0m in \u001b[0;36mcolumn_or_1d\u001b[0;34m(y, warn)\u001b[0m\n\u001b[1;32m    612\u001b[0m         \u001b[0;32mreturn\u001b[0m \u001b[0mnp\u001b[0m\u001b[0;34m.\u001b[0m\u001b[0mravel\u001b[0m\u001b[0;34m(\u001b[0m\u001b[0my\u001b[0m\u001b[0;34m)\u001b[0m\u001b[0;34m\u001b[0m\u001b[0m\n\u001b[1;32m    613\u001b[0m \u001b[0;34m\u001b[0m\u001b[0m\n\u001b[0;32m--> 614\u001b[0;31m     \u001b[0;32mraise\u001b[0m \u001b[0mValueError\u001b[0m\u001b[0;34m(\u001b[0m\u001b[0;34m\"bad input shape {0}\"\u001b[0m\u001b[0;34m.\u001b[0m\u001b[0mformat\u001b[0m\u001b[0;34m(\u001b[0m\u001b[0mshape\u001b[0m\u001b[0;34m)\u001b[0m\u001b[0;34m)\u001b[0m\u001b[0;34m\u001b[0m\u001b[0m\n\u001b[0m\u001b[1;32m    615\u001b[0m \u001b[0;34m\u001b[0m\u001b[0m\n\u001b[1;32m    616\u001b[0m \u001b[0;34m\u001b[0m\u001b[0m\n",
      "\u001b[0;31mValueError\u001b[0m: bad input shape (120, 10222)"
     ]
    }
   ],
   "source": [
    "\n",
    "#stopped here on Monday night... http://scikit-learn.org/stable/auto_examples/classification/plot_digits_classification.html\n",
    "\n",
    "\n",
    "\n",
    "#X = [[0.,20444.],[1.,1.]]#[n_sample, n_features]\n",
    "#need to flatten the image to make it usable\n",
    "\n",
    "#data = train.matrix.reshape((n_samples, -1))\n",
    "\n",
    "#X = train['matrix'].reshape(-1,1)\n",
    "\n",
    "#y = [0, 120] #[#n_samples] - the target values/class labels\n",
    "#y = labels_df['B']\n",
    "X = img_matricies_np_flat #looks good\n",
    "y = target_values_np #1 x number of features\n",
    "\n",
    "\n",
    "clf = SGDClassifier(loss=\"hinge\",penalty=\"l2\")\n",
    "clf.fit(X[:n_samples], y[:n_samples])"
   ]
  },
  {
   "cell_type": "code",
   "execution_count": null,
   "metadata": {
    "collapsed": false
   },
   "outputs": [],
   "source": [
    "clf.predict([[2., 2.]])"
   ]
  },
  {
   "cell_type": "code",
   "execution_count": null,
   "metadata": {
    "collapsed": true
   },
   "outputs": [],
   "source": []
  },
  {
   "cell_type": "code",
   "execution_count": null,
   "metadata": {
    "collapsed": true
   },
   "outputs": [],
   "source": []
  }
 ],
 "metadata": {
  "kernelspec": {
   "display_name": "Python (gameAI)",
   "language": "python",
   "name": "gameai"
  },
  "language_info": {
   "codemirror_mode": {
    "name": "ipython",
    "version": 3
   },
   "file_extension": ".py",
   "mimetype": "text/x-python",
   "name": "python",
   "nbconvert_exporter": "python",
   "pygments_lexer": "ipython3",
   "version": "3.4.5"
  }
 },
 "nbformat": 4,
 "nbformat_minor": 2
}
