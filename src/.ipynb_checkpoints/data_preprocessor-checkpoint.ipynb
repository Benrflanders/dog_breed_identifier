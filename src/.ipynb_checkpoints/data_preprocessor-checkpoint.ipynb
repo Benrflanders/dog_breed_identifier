{
 "cells": [
  {
   "cell_type": "code",
   "execution_count": 75,
   "metadata": {
    "collapsed": false
   },
   "outputs": [],
   "source": [
    "import os\n",
    "\n",
    "import matplotlib.pyplot as plt\n",
    "import numpy as np\n",
    "import tensorflow as tf\n",
    "from PIL import Image\n",
    "\n",
    "from utils.general_utils import get_imgMatrix_from_id, get_random_id, get_id_from_filename"
   ]
  },
  {
   "cell_type": "code",
   "execution_count": 76,
   "metadata": {
    "collapsed": false
   },
   "outputs": [],
   "source": [
    "#create a .csv file of ids and image_matricies and save it to the data/preprocessed folder"
   ]
  },
  {
   "cell_type": "code",
   "execution_count": 77,
   "metadata": {
    "collapsed": false
   },
   "outputs": [
    {
     "data": {
      "text/plain": [
       "'9eadcc5e6b5c3b8b0f7f191126255089.jpg ... saved'"
      ]
     },
     "execution_count": 77,
     "metadata": {},
     "output_type": "execute_result"
    }
   ],
   "source": [
    "#convert all images to grayscale vectors\n",
    "def normalize_image(file_name, original_dir=\"../data/included/Train/\",output_dir=\"/data/preprocessed_data/Train/\"):\n",
    "    file = original_dir + \"\" + file_name #store the file name and location  \n",
    "    #image = tf.image.decode_jpeg(file) #Decode a JPEG-encoded image to a uint8 tensor\n",
    "    image = PIL.Image.open(file)\n",
    "    #image = plt.Image(file)\n",
    "    \n",
    "    #scale the image to 32 x 32 x 3 image and convert to grayscale\n",
    "    image = image.resize((32,32), PIL.Image.ANTIALIAS).convert('LA')\n",
    "    \n",
    "    image_id = get_id_from_filename(file_name)\n",
    "    \n",
    "    #save the image to the output_dir with the same id\n",
    "    image.save((\"/home/ben/Documents/github/kaggle_dog_breed/data/preprocessed_data/Train/\"+ \"\" + image_id + \".png\"),format='PNG')\n",
    "        \n",
    "    return (file_name + \" ... saved\")\n",
    "\n",
    "\n",
    "normalize_image(get_random_id(dir=\"../data/included/Train/\")+ \".jpg\")\n",
    "\n",
    "#type(plt.imread(\"../data/included/Train/bd6a14ec09f86f3fef46f9433db8c445.jpg\"))\n",
    "#plt.imread(\"../data/included/Train/\" + image)"
   ]
  },
  {
   "cell_type": "code",
   "execution_count": 78,
   "metadata": {
    "collapsed": false
   },
   "outputs": [],
   "source": [
    "#pre-process all of the Train files\n",
    "def pre_process(dir=\"../data/included/Train/\"):\n",
    "    data_files = os.listdir(\"../data/included/Train/\") #get a list of all filenames from Train dir\n",
    "\n",
    "    for file in data_files:\n",
    "        normalize_image(file)\n",
    "        \n",
    "    return(True)"
   ]
  },
  {
   "cell_type": "code",
   "execution_count": null,
   "metadata": {
    "collapsed": true
   },
   "outputs": [],
   "source": []
  }
 ],
 "metadata": {
  "kernelspec": {
   "display_name": "Python (gameAI)",
   "language": "python",
   "name": "gameai"
  },
  "language_info": {
   "codemirror_mode": {
    "name": "ipython",
    "version": 3
   },
   "file_extension": ".py",
   "mimetype": "text/x-python",
   "name": "python",
   "nbconvert_exporter": "python",
   "pygments_lexer": "ipython3",
   "version": "3.4.5"
  }
 },
 "nbformat": 4,
 "nbformat_minor": 2
}
