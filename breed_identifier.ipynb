{
 "cells": [
  {
   "cell_type": "code",
   "execution_count": 31,
   "metadata": {},
   "outputs": [],
   "source": [
    "import IPython\n",
    "\n",
    "#import libraries\n",
    "import sys\n",
    "import tensorflow as tf\n",
    "import numpy as np\n",
    "import csv"
   ]
  },
  {
   "cell_type": "code",
   "execution_count": 32,
   "metadata": {},
   "outputs": [],
   "source": [
    "#import datasets\n",
    "training_data = \"data/labels.csv\"\n",
    "#testing_data = open(\"data/sample_submission.csv\")\n",
    "\n",
    "#parameters\n",
    "train = True #start training NN\n",
    "test = False #test NN"
   ]
  },
  {
   "cell_type": "code",
   "execution_count": 67,
   "metadata": {},
   "outputs": [],
   "source": [
    "data = { } #dictionary to hold parsed id and breed info\n",
    "\n",
    "#pass training data for training info\n",
    "if(train):\n",
    "    f = open(training_data, 'r',) #open csv file\n",
    "    reader = csv.reader(f)\n",
    "    \n",
    "    headers = next(reader) #retrieve header names\n",
    "    \n",
    "    h0 = headers[0] #id\n",
    "    h1 = headers[1] #breed\n",
    "    \n",
    "    data[h0] = [] #list of ids\n",
    "    data[h1] = [] #list of breeds\n",
    "    \n",
    "    for row in reader: #loop through reader\n",
    "        data[h0].append(row[0])\n",
    "        data[h1].append(row[1])"
   ]
  },
  {
   "cell_type": "code",
   "execution_count": 69,
   "metadata": {},
   "outputs": [],
   "source": [
    "#sigmoid activation function\n",
    "#TODO: consider using other activation functions\n",
    "#-create new util file, include sigmoid in that file\n",
    "def sigmoid(a,deriv-False):\n",
    "    if(deriv==True):\n",
    "        return a*(1-a) #derivative of sigmoid function\n",
    "    \n",
    "    return 1/(1-np,exp(-a)) #sigmoid fucntion\n",
    "\n",
    "#define a 3 layer neural network\n",
    "def neural_net(x_dict): #pass in a dictionary of images NOT IDs\n",
    "    \n",
    "    #3 layer network => 2 synapses\n",
    "    syn0 = 2*np.random.random((data[h0].size,120)) #2 input parameters\n",
    "    syn1 = 2*np.random.random(()) #\n",
    "    \n",
    "    #3 layers \n",
    "    #TODO: Add more layers\n",
    "    l0 = x_dict\n",
    "    l1 = sigmoid(np.dot(l0, syn0))\n",
    "    l2 = nonlin(np.dot(l1, syn1))\n",
    "    \n",
    "    #backpropogation\n",
    "    \n",
    "    return out_layer\n",
    "\n",
    "\n"
   ]
  },
  {
   "cell_type": "code",
   "execution_count": null,
   "metadata": {
    "collapsed": true
   },
   "outputs": [],
   "source": [
    "#train neural network"
   ]
  },
  {
   "cell_type": "code",
   "execution_count": null,
   "metadata": {
    "collapsed": true
   },
   "outputs": [],
   "source": [
    "#test the network"
   ]
  },
  {
   "cell_type": "code",
   "execution_count": null,
   "metadata": {
    "collapsed": true
   },
   "outputs": [],
   "source": [
    "#save submission\n",
    "\n"
   ]
  }
 ],
 "metadata": {
  "kernelspec": {
   "display_name": "Python 3",
   "language": "python",
   "name": "python3"
  },
  "language_info": {
   "codemirror_mode": {
    "name": "ipython",
    "version": 3
   },
   "file_extension": ".py",
   "mimetype": "text/x-python",
   "name": "python",
   "nbconvert_exporter": "python",
   "pygments_lexer": "ipython3",
   "version": "3.6.0"
  }
 },
 "nbformat": 4,
 "nbformat_minor": 2
}
