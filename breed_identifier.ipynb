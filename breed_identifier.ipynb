{
 "cells": [
  {
   "cell_type": "code",
   "execution_count": 2,
   "metadata": {
    "collapsed": true
   },
   "outputs": [],
   "source": [
    "import IPython\n",
    "\n",
    "#import libraries\n",
    "import sys\n",
    "import tensorflow as tf\n",
    "import numpy as np\n",
    "import csv\n",
    "from PIL import Image\n",
    "import matplotlib.pyplot as plt"
   ]
  },
  {
   "cell_type": "code",
   "execution_count": 3,
   "metadata": {
    "collapsed": true
   },
   "outputs": [],
   "source": [
    "#import datasets\n",
    "training_data = \"data/labels.csv\"\n",
    "#testing_data = open(\"data/sample_submission.csv\")\n",
    "\n",
    "#parameters\n",
    "train = True #start training NN\n",
    "test = False #test NN\n",
    "num_breeds = 120\n",
    "num_steps = 100"
   ]
  },
  {
   "cell_type": "code",
   "execution_count": 4,
   "metadata": {
    "collapsed": true
   },
   "outputs": [],
   "source": [
    "#ops\n",
    "\n",
    "#sigmoid activation function\n",
    "#TODO: consider using other activation functions\n",
    "#-create new util file, include sigmoid in that file\n",
    "#switch to softmax as it normalizes the sum of values\n",
    "def sigmoid(a,deriv=False):\n",
    "    if(deriv==True):\n",
    "        return a*(1-a) #derivative of sigmoid function\n",
    "    \n",
    "    return 1/(1-np,exp(-a)) #sigmoid function\n",
    "\n",
    "\n",
    "#get pixel data from image stored in folder\n",
    "# example usage: \n",
    "#get_imgMatrix_from_id(data[h0][5])\n",
    "def get_imgMatrix_from_id(image_id, image_dir=\"data/Train\"):\n",
    "    image_loc = image_dir + \"/\" + image_id + \".jpg\"\n",
    "    \n",
    "    return plt.imread(image_loc)"
   ]
  },
  {
   "cell_type": "code",
   "execution_count": 5,
   "metadata": {
    "collapsed": true
   },
   "outputs": [],
   "source": [
    "data = { } #dictionary to hold parsed id and breed info\n",
    "headers = [] #arrays that holds all headers\n",
    "labels = {\"affenpinscher\",\"afghan_hound\",\"african_hunting_dog\",\"airedale\",\"american_staffordshire_terrier\",\"appenzeller\",\"australian_terrier\",\"basenji\",\"basset\",\"beagle\",\"bedlington_terrier\",\"bernese_mountain_dog\",\"black-and-tan_coonhound\",\"blenheim_spaniel\",\"bloodhound\",\"bluetick\",\"border_collie\",\"border_terrier\",\"borzoi\",\"boston_bull\",\"bouvier_des_flandres\",\"boxer\",\"brabancon_griffon\",\"briard\",\"brittany_spaniel\",\"bull_mastiff\",\"cairn\",\"cardigan\",\"chesapeake_bay_retriever\",\"chihuahua\",\"chow\",\"clumber\",\"cocker_spaniel\",\"collie\",\"curly-coated_retriever\",\"dandie_dinmont\",\"dhole\",\"dingo\",\"doberman\",\"english_foxhound\",\"english_setter\",\"english_springer\",\"entlebucher\",\"eskimo_dog\",\"flat-coated_retriever\",\"french_bulldog\",\"german_shepherd\",\"german_short-haired_pointer\",\"giant_schnauzer\",\"golden_retriever\",\"gordon_setter\",\"great_dane\",\"great_pyrenees\",\"greater_swiss_mountain_dog\",\"groenendael\",\"ibizan_hound\",\"irish_setter\",\"irish_terrier\",\"irish_water_spaniel\",\"irish_wolfhound\",\"italian_greyhound\",\"japanese_spaniel\",\"keeshond\",\"kelpie\",\"kerry_blue_terrier\",\"komondor\",\"kuvasz\",\"labrador_retriever\",\"lakeland_terrier\",\"leonberg\",\"lhasa\",\"malamute\",\"malinois\",\"maltese_dog\",\"mexican_hairless\",\"miniature_pinscher\",\"miniature_poodle\",\"miniature_schnauzer\",\"newfoundland\",\"norfolk_terrier\",\"norwegian_elkhound\",\"norwich_terrier\",\"old_english_sheepdog\",\"otterhound\",\"papillon\",\"pekinese\",\"pembroke\",\"pomeranian\",\"pug\",\"redbone\",\"rhodesian_ridgeback\",\"rottweiler\",\"saint_bernard\",\"saluki\",\"samoyed\",\"schipperke\",\"scotch_terrier\",\"scottish_deerhound\",\"sealyham_terrier\",\"shetland_sheepdog\",\"shih-tzu\",\"siberian_husky\",\"silky_terrier\",\"soft-coated_wheaten_terrier\",\"staffordshire_bullterrier\",\"standard_poodle\",\"standard_schnauzer\",\"sussex_spaniel\",\"tibetan_mastiff\",\"tibetan_terrier\",\"toy_poodle\",\"toy_terrier\",\"vizsla\",\"walker_hound\",\"weimaraner\",\"welsh_springer_spaniel\",\"west_highland_white_terrier\",\"whippet\",\"wire-haired_fox_terrier\",\"yorkshire_terrier\"}\n",
    "#labels of what we are trying to predict\n",
    "        \n",
    "def my_input_fn():\n",
    "    #preprocess your data here\n",
    "    f = open(training_data, 'r',) #open csv file\n",
    "    reader = csv.reader(f)\n",
    "    \n",
    "    #return a mapping of feature columns to Tensors with:\n",
    "    \n",
    "    #...the corresponding feature data\n",
    "    #TODO: use tf.data to pipeline input rather than load into memory\n",
    "    \n",
    "    headers = next(reader) #retrieve header names\n",
    "    \n",
    "    h0 = headers[0] #id\n",
    "    h1 = headers[1] #breed\n",
    "    h2 = \"image\"\n",
    "    \n",
    "    data[h0] = [] #list of ids\n",
    "    data[h1] = [] #list of breeds\n",
    "    data[h2] = [] #list of image arrays\n",
    "    \n",
    "    for row in reader: #loop through reader\n",
    "        data[h0].append(row[0]) #appends id\n",
    "        data[h1].append(row[1]) #appends breed\n",
    "        data[h2].append(get_imgMatrix_from_id(row[0])) #appends image matrix based on id\n",
    "\n",
    "    feature_cols = data\n",
    "    \n",
    "    \n",
    "    #...a tensor containing the labels\n",
    "    #labels = the values your models aims to predict\n",
    "    \n",
    "    \n",
    "    \n",
    "    \n",
    "    return feature_cols, labels"
   ]
  },
  {
   "cell_type": "code",
   "execution_count": 6,
   "metadata": {
    "collapsed": true
   },
   "outputs": [],
   "source": [
    "#define the input function -- see tensorflow documentation\n",
    "#def input_fn ="
   ]
  },
  {
   "cell_type": "code",
   "execution_count": 7,
   "metadata": {
    "collapsed": true
   },
   "outputs": [],
   "source": [
    "#define a 3 layer neural network\n",
    "def neural_net(x_dict): #pass in a dictionary of image matricies NOT IDs\n",
    "    \n",
    "    #3 layers \n",
    "    #TODO: Add more layers\n",
    "    l0 = x_dict #the input layer\n",
    "    l1 = tf.layers.dense(l0,256) #layer one, uses sigmoid function to calculate weights\n",
    "    l2 = tf.layers.dense(l1, num_breeds) #the output layer\n",
    "    \n",
    "    return l2\n"
   ]
  },
  {
   "cell_type": "code",
   "execution_count": 8,
   "metadata": {
    "collapsed": true
   },
   "outputs": [],
   "source": [
    "#tf estimator model function\n",
    "def model_fn(features, labels, mode, params):    \n",
    "    #this function is where the most machine learning knowledge comes into play\n",
    "    \n",
    "    #build the neural network\n",
    "    logits = neural_net(features)\n",
    "    \n",
    "    #Predictions\n",
    "    pred_classes = tf.argmax(logits, axis=3)\n",
    "    print(\"pred classes: \" + pred_classes)\n",
    "        \n",
    "    #compute loss and optimizer - taken from Tensorflow custom_estimator doc\n",
    "    loss_op = tf.losses.sparse_softmax_cross_entropy(labels=labels, logits=logits) #TODO:use signmoid instead\n",
    "    train_op = optimizer.minimize(loss_op, )\n",
    "            \n",
    "    \n",
    "    #specifies the required ops for the estimator and returns\n",
    "    return tf.estimator.EstimatorSpec(\n",
    "        mode=mode, #mode is not required, TODO:maybe createa a param for mode and access it here\n",
    "        predictions=pred_classes,\n",
    "        loss=loss_op,\n",
    "        train_op=train_op)    \n",
    "        \n"
   ]
  },
  {
   "cell_type": "code",
   "execution_count": 18,
   "metadata": {},
   "outputs": [
    {
     "name": "stdout",
     "output_type": "stream",
     "text": [
      "WARNING:tensorflow:Using temporary folder as model directory: /tmp/tmpkt65vtyf\n",
      "INFO:tensorflow:Using default config.\n",
      "INFO:tensorflow:Using config: {}\n",
      "WARNING:tensorflow:Estimator's model_fn (<function model_fn at 0x7f9233a51730>) includes params argument, but params are not passed to Estimator.\n"
     ]
    }
   ],
   "source": [
    "#build the estimator\n",
    "#use tensorflow estimator -- see tensorflow documentation\n",
    "model = tf.estimator.Estimator(model_fn)"
   ]
  },
  {
   "cell_type": "code",
   "execution_count": null,
   "metadata": {
    "collapsed": true
   },
   "outputs": [],
   "source": [
    "#train the model\n",
    "model.train(input_fn=my_input_fn, steps=num_steps)"
   ]
  },
  {
   "cell_type": "code",
   "execution_count": 22,
   "metadata": {},
   "outputs": [
    {
     "ename": "ValueError",
     "evalue": "Could not find trained model in model_dir: /tmp/tmpkt65vtyf.",
     "output_type": "error",
     "traceback": [
      "\u001b[0;31m---------------------------------------------------------------------------\u001b[0m",
      "\u001b[0;31mValueError\u001b[0m                                Traceback (most recent call last)",
      "\u001b[0;32m<ipython-input-22-1b5bb63c6472>\u001b[0m in \u001b[0;36m<module>\u001b[0;34m()\u001b[0m\n\u001b[1;32m      2\u001b[0m \u001b[0;34m\u001b[0m\u001b[0m\n\u001b[1;32m      3\u001b[0m \u001b[0mds_predict_tf\u001b[0m \u001b[0;34m=\u001b[0m \u001b[0mmodel\u001b[0m\u001b[0;34m.\u001b[0m\u001b[0mpredict\u001b[0m\u001b[0;34m(\u001b[0m\u001b[0mget_imgMatrix_from_id\u001b[0m\u001b[0;34m(\u001b[0m\u001b[0;34m\"0a0b97441050bba8e733506de4655ea1\"\u001b[0m\u001b[0;34m,\u001b[0m\u001b[0;34m'data/Test'\u001b[0m\u001b[0;34m)\u001b[0m\u001b[0;34m)\u001b[0m\u001b[0;34m\u001b[0m\u001b[0m\n\u001b[0;32m----> 4\u001b[0;31m \u001b[0;32mfor\u001b[0m \u001b[0mi\u001b[0m \u001b[0;32min\u001b[0m \u001b[0mds_predict_tf\u001b[0m\u001b[0;34m:\u001b[0m\u001b[0;34m\u001b[0m\u001b[0m\n\u001b[0m\u001b[1;32m      5\u001b[0m     \u001b[0mprint\u001b[0m\u001b[0;34m(\u001b[0m\u001b[0mi\u001b[0m\u001b[0;34m)\u001b[0m\u001b[0;34m\u001b[0m\u001b[0m\n",
      "\u001b[0;32m/home/ben/miniconda3/lib/python3.6/site-packages/tensorflow/python/estimator/estimator.py\u001b[0m in \u001b[0;36mpredict\u001b[0;34m(self, input_fn, predict_keys, hooks)\u001b[0m\n\u001b[1;32m    299\u001b[0m     \u001b[0;32mif\u001b[0m \u001b[0;32mnot\u001b[0m \u001b[0mcheckpoint_path\u001b[0m\u001b[0;34m:\u001b[0m\u001b[0;34m\u001b[0m\u001b[0m\n\u001b[1;32m    300\u001b[0m       raise ValueError('Could not find trained model in model_dir: {}.'.format(\n\u001b[0;32m--> 301\u001b[0;31m           self._model_dir))\n\u001b[0m\u001b[1;32m    302\u001b[0m \u001b[0;34m\u001b[0m\u001b[0m\n\u001b[1;32m    303\u001b[0m     \u001b[0;32mwith\u001b[0m \u001b[0mops\u001b[0m\u001b[0;34m.\u001b[0m\u001b[0mGraph\u001b[0m\u001b[0;34m(\u001b[0m\u001b[0;34m)\u001b[0m\u001b[0;34m.\u001b[0m\u001b[0mas_default\u001b[0m\u001b[0;34m(\u001b[0m\u001b[0;34m)\u001b[0m \u001b[0;32mas\u001b[0m \u001b[0mg\u001b[0m\u001b[0;34m:\u001b[0m\u001b[0;34m\u001b[0m\u001b[0m\n",
      "\u001b[0;31mValueError\u001b[0m: Could not find trained model in model_dir: /tmp/tmpkt65vtyf."
     ]
    }
   ],
   "source": [
    "#test the network\n",
    "\n",
    "ds_predict_tf = model.predict(get_imgMatrix_from_id(\"0a0b97441050bba8e733506de4655ea1\",'data/Test'))\n",
    "for i in ds_predict_tf:\n",
    "    print(i)\n"
   ]
  },
  {
   "cell_type": "code",
   "execution_count": null,
   "metadata": {
    "collapsed": true
   },
   "outputs": [],
   "source": [
    "#save the model"
   ]
  }
 ],
 "metadata": {
  "kernelspec": {
   "display_name": "Python 3",
   "language": "python",
   "name": "python3"
  },
  "language_info": {
   "codemirror_mode": {
    "name": "ipython",
    "version": 3
   },
   "file_extension": ".py",
   "mimetype": "text/x-python",
   "name": "python",
   "nbconvert_exporter": "python",
   "pygments_lexer": "ipython3",
   "version": "3.6.0"
  }
 },
 "nbformat": 4,
 "nbformat_minor": 2
}
